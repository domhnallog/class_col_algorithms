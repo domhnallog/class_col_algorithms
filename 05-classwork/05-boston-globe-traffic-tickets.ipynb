{
 "cells": [
  {
   "cell_type": "markdown",
   "metadata": {},
   "source": [
    "## Boston Globe Analysis on Traffic Tickets and Warnings using Logistic Regression\n",
    "\n",
    "The Boston Globe has a multi-part series investigating traffic tickets and warnings, the corresponding fallout for offenders, and whether demographics play a role in who gets a fine and who gets a break for the exact same offence. \n",
    "\n",
    "You can:\n",
    "- Read the series here:\n",
    "http://archive.boston.com/globe/metro/packages/tickets/\n",
    "\n",
    "- Pull their data from here:\n",
    "http://archive.boston.com/globe/metro/packages/tickets/warnings.zip\n",
    "\n",
    "- And, read their methodology here:\n",
    "http://archive.boston.com/globe/metro/packages/tickets/study.pdf\n",
    "\n",
    "A lot of this notebook is based on Jonathan Stray's notebook for last year's Logistic Regression class for the Lede program. His notebook covering \"The Speed Trap\" is [here](https://github.com/jstray/lede-algorithms/blob/master/week-3/week-3-2-class.ipynb). "
   ]
  },
  {
   "cell_type": "markdown",
   "metadata": {},
   "source": [
    "### Logistic Regression and Bias\n",
    "\n",
    "So far, we've looked at logistic regression for classification in supervised learning. In this case study, however, we dive into how logistic regression can be used for predicting or identifying bias. This is done by looking at the logistic regression coefficients to determine how important each variable is to the overall analysis. "
   ]
  },
  {
   "cell_type": "code",
   "execution_count": 1,
   "metadata": {},
   "outputs": [],
   "source": [
    "# Manage imports in one place. \n",
    "import pandas as pd\n",
    "import matplotlib.pyplot as plt\n",
    "import numpy as np\n",
    "from sklearn.linear_model import LinearRegression,LogisticRegression\n",
    "\n",
    "%matplotlib inline"
   ]
  },
  {
   "cell_type": "code",
   "execution_count": 2,
   "metadata": {},
   "outputs": [
    {
     "data": {
      "text/html": [
       "<div>\n",
       "<style scoped>\n",
       "    .dataframe tbody tr th:only-of-type {\n",
       "        vertical-align: middle;\n",
       "    }\n",
       "\n",
       "    .dataframe tbody tr th {\n",
       "        vertical-align: top;\n",
       "    }\n",
       "\n",
       "    .dataframe thead th {\n",
       "        text-align: right;\n",
       "    }\n",
       "</style>\n",
       "<table border=\"1\" class=\"dataframe\">\n",
       "  <thead>\n",
       "    <tr style=\"text-align: right;\">\n",
       "      <th></th>\n",
       "      <th>TYPE</th>\n",
       "      <th>CITATION</th>\n",
       "      <th>DATE</th>\n",
       "      <th>DOW</th>\n",
       "      <th>AGENCY</th>\n",
       "      <th>AGENCY2</th>\n",
       "      <th>AGENCY3</th>\n",
       "      <th>LOCAL</th>\n",
       "      <th>OFFICER</th>\n",
       "      <th>LICSTATE</th>\n",
       "      <th>...</th>\n",
       "      <th>V_YEAR</th>\n",
       "      <th>V_AGE</th>\n",
       "      <th>V_AGEGRP</th>\n",
       "      <th>COLOR</th>\n",
       "      <th>HOMESTATE</th>\n",
       "      <th>HOMETOWN</th>\n",
       "      <th>INTOWN</th>\n",
       "      <th>INSTATE</th>\n",
       "      <th>INTOWN2</th>\n",
       "      <th>INSTATE2</th>\n",
       "    </tr>\n",
       "  </thead>\n",
       "  <tbody>\n",
       "    <tr>\n",
       "      <th>0</th>\n",
       "      <td>T</td>\n",
       "      <td>K0001506</td>\n",
       "      <td>20010411.0</td>\n",
       "      <td>Wednesday</td>\n",
       "      <td>State Police Troop A-4</td>\n",
       "      <td>State Police</td>\n",
       "      <td>S</td>\n",
       "      <td>N</td>\n",
       "      <td>8.247791e+15</td>\n",
       "      <td>MA</td>\n",
       "      <td>...</td>\n",
       "      <td>0.0</td>\n",
       "      <td>NaN</td>\n",
       "      <td>U</td>\n",
       "      <td>NaN</td>\n",
       "      <td>MA</td>\n",
       "      <td>Tewksbury</td>\n",
       "      <td>N</td>\n",
       "      <td>Y</td>\n",
       "      <td>0.0</td>\n",
       "      <td>1.0</td>\n",
       "    </tr>\n",
       "    <tr>\n",
       "      <th>1</th>\n",
       "      <td>T</td>\n",
       "      <td>K0001507</td>\n",
       "      <td>20010417.0</td>\n",
       "      <td>Tuesday</td>\n",
       "      <td>State Police Troop A-4</td>\n",
       "      <td>State Police</td>\n",
       "      <td>S</td>\n",
       "      <td>N</td>\n",
       "      <td>8.247791e+15</td>\n",
       "      <td>MA</td>\n",
       "      <td>...</td>\n",
       "      <td>1988.0</td>\n",
       "      <td>13.0</td>\n",
       "      <td>older</td>\n",
       "      <td>WHITE</td>\n",
       "      <td>MA</td>\n",
       "      <td>Boston</td>\n",
       "      <td>N</td>\n",
       "      <td>Y</td>\n",
       "      <td>0.0</td>\n",
       "      <td>1.0</td>\n",
       "    </tr>\n",
       "    <tr>\n",
       "      <th>2</th>\n",
       "      <td>T</td>\n",
       "      <td>K0001509</td>\n",
       "      <td>20010420.0</td>\n",
       "      <td>Friday</td>\n",
       "      <td>State Police Troop A-4</td>\n",
       "      <td>State Police</td>\n",
       "      <td>S</td>\n",
       "      <td>N</td>\n",
       "      <td>8.247791e+15</td>\n",
       "      <td>NH</td>\n",
       "      <td>...</td>\n",
       "      <td>0.0</td>\n",
       "      <td>NaN</td>\n",
       "      <td>U</td>\n",
       "      <td>NaN</td>\n",
       "      <td>NH</td>\n",
       "      <td>NaN</td>\n",
       "      <td>N</td>\n",
       "      <td>N</td>\n",
       "      <td>0.0</td>\n",
       "      <td>0.0</td>\n",
       "    </tr>\n",
       "    <tr>\n",
       "      <th>3</th>\n",
       "      <td>T</td>\n",
       "      <td>K0001510</td>\n",
       "      <td>20010420.0</td>\n",
       "      <td>Friday</td>\n",
       "      <td>State Police Troop A-4</td>\n",
       "      <td>State Police</td>\n",
       "      <td>S</td>\n",
       "      <td>N</td>\n",
       "      <td>8.247791e+15</td>\n",
       "      <td>NH</td>\n",
       "      <td>...</td>\n",
       "      <td>0.0</td>\n",
       "      <td>NaN</td>\n",
       "      <td>U</td>\n",
       "      <td>NaN</td>\n",
       "      <td>NH</td>\n",
       "      <td>NaN</td>\n",
       "      <td>N</td>\n",
       "      <td>N</td>\n",
       "      <td>0.0</td>\n",
       "      <td>0.0</td>\n",
       "    </tr>\n",
       "    <tr>\n",
       "      <th>4</th>\n",
       "      <td>T</td>\n",
       "      <td>K0001511</td>\n",
       "      <td>20010427.0</td>\n",
       "      <td>Friday</td>\n",
       "      <td>State Police Troop A-4</td>\n",
       "      <td>State Police</td>\n",
       "      <td>S</td>\n",
       "      <td>N</td>\n",
       "      <td>8.247791e+15</td>\n",
       "      <td>MA</td>\n",
       "      <td>...</td>\n",
       "      <td>2000.0</td>\n",
       "      <td>1.0</td>\n",
       "      <td>new</td>\n",
       "      <td>BLACK</td>\n",
       "      <td>MA</td>\n",
       "      <td>Haverhill</td>\n",
       "      <td>N</td>\n",
       "      <td>Y</td>\n",
       "      <td>0.0</td>\n",
       "      <td>1.0</td>\n",
       "    </tr>\n",
       "  </tbody>\n",
       "</table>\n",
       "<p>5 rows × 57 columns</p>\n",
       "</div>"
      ],
      "text/plain": [
       "  TYPE  CITATION        DATE        DOW                  AGENCY       AGENCY2  \\\n",
       "0    T  K0001506  20010411.0  Wednesday  State Police Troop A-4  State Police   \n",
       "1    T  K0001507  20010417.0    Tuesday  State Police Troop A-4  State Police   \n",
       "2    T  K0001509  20010420.0     Friday  State Police Troop A-4  State Police   \n",
       "3    T  K0001510  20010420.0     Friday  State Police Troop A-4  State Police   \n",
       "4    T  K0001511  20010427.0     Friday  State Police Troop A-4  State Police   \n",
       "\n",
       "  AGENCY3 LOCAL       OFFICER LICSTATE  ...  V_YEAR V_AGE V_AGEGRP  COLOR  \\\n",
       "0       S     N  8.247791e+15       MA  ...     0.0   NaN        U    NaN   \n",
       "1       S     N  8.247791e+15       MA  ...  1988.0  13.0    older  WHITE   \n",
       "2       S     N  8.247791e+15       NH  ...     0.0   NaN        U    NaN   \n",
       "3       S     N  8.247791e+15       NH  ...     0.0   NaN        U    NaN   \n",
       "4       S     N  8.247791e+15       MA  ...  2000.0   1.0      new  BLACK   \n",
       "\n",
       "   HOMESTATE   HOMETOWN  INTOWN  INSTATE  INTOWN2 INSTATE2  \n",
       "0         MA  Tewksbury       N        Y      0.0      1.0  \n",
       "1         MA     Boston       N        Y      0.0      1.0  \n",
       "2         NH        NaN       N        N      0.0      0.0  \n",
       "3         NH        NaN       N        N      0.0      0.0  \n",
       "4         MA  Haverhill       N        Y      0.0      1.0  \n",
       "\n",
       "[5 rows x 57 columns]"
      ]
     },
     "execution_count": 2,
     "metadata": {},
     "output_type": "execute_result"
    }
   ],
   "source": [
    "# First we read in our flat file, and get an idea of what our data looks like.\n",
    "df = pd.read_csv('sources/tickets-warnings.csv')\n",
    "df.head()"
   ]
  },
  {
   "cell_type": "code",
   "execution_count": 3,
   "metadata": {},
   "outputs": [
    {
     "data": {
      "text/plain": [
       "(166369, 57)"
      ]
     },
     "execution_count": 3,
     "metadata": {},
     "output_type": "execute_result"
    }
   ],
   "source": [
    "# ...and now let's get an idea of how much data we have.\n",
    "df.shape"
   ]
  },
  {
   "cell_type": "markdown",
   "metadata": {},
   "source": [
    "Right, so we can see that we have about 170,000 rows and 57 columns. 57 columns seems like rather lot, especially considering we probably don't need all of them for our analysis into whether there's any discrimination based on demographics. And, since we're only looking at speeding, we can drop a bunch of rows too. So, let's just retain the rows to do with speeding and the columns around demographics and the eligibility for tickets: Date, Type, Agency3, Sex, Minority, Age, Mph, Mphover, InTown. \n",
    "\n",
    "Note: the methodology link above provides a breakdown of what each of the individual fields mean."
   ]
  },
  {
   "cell_type": "code",
   "execution_count": 4,
   "metadata": {},
   "outputs": [
    {
     "data": {
      "text/html": [
       "<div>\n",
       "<style scoped>\n",
       "    .dataframe tbody tr th:only-of-type {\n",
       "        vertical-align: middle;\n",
       "    }\n",
       "\n",
       "    .dataframe tbody tr th {\n",
       "        vertical-align: top;\n",
       "    }\n",
       "\n",
       "    .dataframe thead th {\n",
       "        text-align: right;\n",
       "    }\n",
       "</style>\n",
       "<table border=\"1\" class=\"dataframe\">\n",
       "  <thead>\n",
       "    <tr style=\"text-align: right;\">\n",
       "      <th></th>\n",
       "      <th>DATE</th>\n",
       "      <th>TYPE</th>\n",
       "      <th>AGENCY3</th>\n",
       "      <th>SEX</th>\n",
       "      <th>MINORITY</th>\n",
       "      <th>AGE</th>\n",
       "      <th>MPH</th>\n",
       "      <th>MPHOVER</th>\n",
       "      <th>INTOWN</th>\n",
       "    </tr>\n",
       "  </thead>\n",
       "  <tbody>\n",
       "    <tr>\n",
       "      <th>0</th>\n",
       "      <td>20010411.0</td>\n",
       "      <td>T</td>\n",
       "      <td>S</td>\n",
       "      <td>M</td>\n",
       "      <td>W</td>\n",
       "      <td>21.0</td>\n",
       "      <td>80.0</td>\n",
       "      <td>15.0</td>\n",
       "      <td>N</td>\n",
       "    </tr>\n",
       "    <tr>\n",
       "      <th>4</th>\n",
       "      <td>20010427.0</td>\n",
       "      <td>T</td>\n",
       "      <td>S</td>\n",
       "      <td>M</td>\n",
       "      <td>W</td>\n",
       "      <td>24.0</td>\n",
       "      <td>85.0</td>\n",
       "      <td>20.0</td>\n",
       "      <td>N</td>\n",
       "    </tr>\n",
       "    <tr>\n",
       "      <th>5</th>\n",
       "      <td>20010502.0</td>\n",
       "      <td>T</td>\n",
       "      <td>S</td>\n",
       "      <td>M</td>\n",
       "      <td>W</td>\n",
       "      <td>37.0</td>\n",
       "      <td>80.0</td>\n",
       "      <td>30.0</td>\n",
       "      <td>N</td>\n",
       "    </tr>\n",
       "    <tr>\n",
       "      <th>6</th>\n",
       "      <td>20010506.0</td>\n",
       "      <td>W</td>\n",
       "      <td>S</td>\n",
       "      <td>M</td>\n",
       "      <td>W</td>\n",
       "      <td>30.0</td>\n",
       "      <td>80.0</td>\n",
       "      <td>15.0</td>\n",
       "      <td>N</td>\n",
       "    </tr>\n",
       "    <tr>\n",
       "      <th>7</th>\n",
       "      <td>20010506.0</td>\n",
       "      <td>W</td>\n",
       "      <td>S</td>\n",
       "      <td>F</td>\n",
       "      <td>M</td>\n",
       "      <td>22.0</td>\n",
       "      <td>75.0</td>\n",
       "      <td>10.0</td>\n",
       "      <td>N</td>\n",
       "    </tr>\n",
       "  </tbody>\n",
       "</table>\n",
       "</div>"
      ],
      "text/plain": [
       "         DATE TYPE AGENCY3 SEX MINORITY   AGE   MPH  MPHOVER INTOWN\n",
       "0  20010411.0    T       S   M        W  21.0  80.0     15.0      N\n",
       "4  20010427.0    T       S   M        W  24.0  85.0     20.0      N\n",
       "5  20010502.0    T       S   M        W  37.0  80.0     30.0      N\n",
       "6  20010506.0    W       S   M        W  30.0  80.0     15.0      N\n",
       "7  20010506.0    W       S   F        M  22.0  75.0     10.0      N"
      ]
     },
     "execution_count": 4,
     "metadata": {},
     "output_type": "execute_result"
    }
   ],
   "source": [
    "df = df[df['DESCRIPT']=='SPEEDING']\n",
    "df = df[['DATE', 'TYPE', 'AGENCY3', 'SEX','MINORITY','AGE','MPH','MPHOVER','INTOWN']]\n",
    "df.head()"
   ]
  },
  {
   "cell_type": "code",
   "execution_count": 5,
   "metadata": {},
   "outputs": [
    {
     "data": {
      "text/plain": [
       "(93744, 9)"
      ]
     },
     "execution_count": 5,
     "metadata": {},
     "output_type": "execute_result"
    }
   ],
   "source": [
    "# We can see we now have under 100,000 rows and only nine columns.\n",
    "df.shape"
   ]
  },
  {
   "cell_type": "code",
   "execution_count": 6,
   "metadata": {},
   "outputs": [
    {
     "name": "stdout",
     "output_type": "stream",
     "text": [
      "The minority breakdown is \n",
      " W    79275\n",
      "M    12836\n",
      "U     1633\n",
      "Name: MINORITY, dtype: int64\n"
     ]
    }
   ],
   "source": [
    "# OK, let's get a better feel for the data with some value counts. \n",
    "print(f\"The minority breakdown is \\n {df.MINORITY.value_counts()}\")"
   ]
  },
  {
   "cell_type": "markdown",
   "metadata": {},
   "source": [
    "Here, we can see that the number of unknowns is low enough (under 2 percent) so we can drop those. And, we also see that about 14 percent (12836/93744) of the tickets are to minorities. \n",
    "\n",
    "At first glance, it looks like whites are getting more tickets than minorities. But, can we jump to that conclusion? What else should we be taking into account here to see if this is a fair conclusion to reach? "
   ]
  },
  {
   "cell_type": "code",
   "execution_count": 7,
   "metadata": {},
   "outputs": [
    {
     "data": {
      "text/plain": [
       "(92111, 9)"
      ]
     },
     "execution_count": 7,
     "metadata": {},
     "output_type": "execute_result"
    }
   ],
   "source": [
    "# drop the unknown minorities \n",
    "df = df[df[\"MINORITY\"] != \"U\"]\n",
    "df.shape"
   ]
  },
  {
   "cell_type": "code",
   "execution_count": 8,
   "metadata": {},
   "outputs": [
    {
     "data": {
      "text/plain": [
       "MINORITY  TYPE\n",
       "M         T        7731\n",
       "          W        5105\n",
       "W         T       40126\n",
       "          W       39149\n",
       "dtype: int64"
      ]
     },
     "execution_count": 8,
     "metadata": {},
     "output_type": "execute_result"
    }
   ],
   "source": [
    "# Now, let's look at the ticket vs. warnings breakdown for minorities\n",
    "breakdown_by_minority = df.groupby(['MINORITY','TYPE']).size()\n",
    "breakdown_by_minority"
   ]
  },
  {
   "cell_type": "code",
   "execution_count": 9,
   "metadata": {},
   "outputs": [
    {
     "data": {
      "text/html": [
       "<div>\n",
       "<style scoped>\n",
       "    .dataframe tbody tr th:only-of-type {\n",
       "        vertical-align: middle;\n",
       "    }\n",
       "\n",
       "    .dataframe tbody tr th {\n",
       "        vertical-align: top;\n",
       "    }\n",
       "\n",
       "    .dataframe thead th {\n",
       "        text-align: right;\n",
       "    }\n",
       "</style>\n",
       "<table border=\"1\" class=\"dataframe\">\n",
       "  <thead>\n",
       "    <tr style=\"text-align: right;\">\n",
       "      <th>TYPE</th>\n",
       "      <th>T</th>\n",
       "      <th>W</th>\n",
       "    </tr>\n",
       "    <tr>\n",
       "      <th>MINORITY</th>\n",
       "      <th></th>\n",
       "      <th></th>\n",
       "    </tr>\n",
       "  </thead>\n",
       "  <tbody>\n",
       "    <tr>\n",
       "      <th>M</th>\n",
       "      <td>7731</td>\n",
       "      <td>5105</td>\n",
       "    </tr>\n",
       "    <tr>\n",
       "      <th>W</th>\n",
       "      <td>40126</td>\n",
       "      <td>39149</td>\n",
       "    </tr>\n",
       "  </tbody>\n",
       "</table>\n",
       "</div>"
      ],
      "text/plain": [
       "TYPE          T      W\n",
       "MINORITY              \n",
       "M          7731   5105\n",
       "W         40126  39149"
      ]
     },
     "execution_count": 9,
     "metadata": {},
     "output_type": "execute_result"
    }
   ],
   "source": [
    "# ...and let's prettify it. \n",
    "pd.crosstab(df.MINORITY, df.TYPE)"
   ]
  },
  {
   "cell_type": "markdown",
   "metadata": {},
   "source": [
    "### Right, so what are we looking at?\n",
    "\n",
    "The above crosstab ([cross tabulation or contingency table](https://en.wikipedia.org/wiki/Contingency_table)) shows us the counts broken down by minority type. Or, the number of tickets vs. warnings received by the two groups: whites and minorities. \n",
    "\n",
    "In absolute numbers, this doesn't seem like a big deal. But, what happens when we look at the ratios?"
   ]
  },
  {
   "cell_type": "code",
   "execution_count": 10,
   "metadata": {},
   "outputs": [
    {
     "data": {
      "text/plain": [
       "0.6022904331567467"
      ]
     },
     "execution_count": 10,
     "metadata": {},
     "output_type": "execute_result"
    }
   ],
   "source": [
    "# Here, we see how what percentage of the offences conducted by minorities resulted\n",
    "# in a ticket vs. a warning. \n",
    "breakdown_by_minority[\"M\"][\"T\"] / sum(breakdown_by_minority[\"M\"])"
   ]
  },
  {
   "cell_type": "code",
   "execution_count": 11,
   "metadata": {},
   "outputs": [
    {
     "data": {
      "text/plain": [
       "0.5061620939766636"
      ]
     },
     "execution_count": 11,
     "metadata": {},
     "output_type": "execute_result"
    }
   ],
   "source": [
    "# And, then, we do the same thing for non-minorities. \n",
    "breakdown_by_minority[\"W\"][\"T\"] / sum(breakdown_by_minority[\"W\"])"
   ]
  },
  {
   "cell_type": "markdown",
   "metadata": {},
   "source": [
    "OK, so in terms of percentages, it looks like minorities were more likely to get tickets compared to non-minorities. But, is there definitely something awry here? Or, in other words: is all else equal? \n",
    "\n",
    "What do I mean by that?\n",
    "\n",
    "Well, was the nature of the driving significantly more dangerous for minorities compared to non-minorities? Or, in other words: are the speeds comparable for the two groups?"
   ]
  },
  {
   "cell_type": "code",
   "execution_count": 12,
   "metadata": {},
   "outputs": [
    {
     "data": {
      "text/plain": [
       "<matplotlib.axes._subplots.AxesSubplot at 0x2050bdcebc8>"
      ]
     },
     "execution_count": 12,
     "metadata": {},
     "output_type": "execute_result"
    },
    {
     "data": {
      "image/png": "[encoded data removed]",
      "text/plain": [
       "<Figure size 432x288 with 1 Axes>"
      ]
     },
     "metadata": {
      "needs_background": "light"
     },
     "output_type": "display_data"
    }
   ],
   "source": [
    "# First, we get an idea of what kind of speed limits we're looking at.\n",
    "df.MPHOVER.hist()"
   ]
  },
  {
   "cell_type": "code",
   "execution_count": 13,
   "metadata": {},
   "outputs": [
    {
     "name": "stdout",
     "output_type": "stream",
     "text": [
      "The maximum MPHOVER we have is 75.0\n",
      "The minimum MPHOVER we have is 1.0\n"
     ]
    }
   ],
   "source": [
    "# Before we break it down by minorities, let's get an idea of what our range is\n",
    "print(f\"The maximum MPHOVER we have is {df.MPHOVER.max()}\")\n",
    "print(f\"The minimum MPHOVER we have is {df.MPHOVER.min()}\")"
   ]
  },
  {
   "cell_type": "code",
   "execution_count": 14,
   "metadata": {},
   "outputs": [
    {
     "data": {
      "image/png": "[encoded data removed]",
      "text/plain": [
       "<Figure size 432x288 with 1 Axes>"
      ]
     },
     "metadata": {
      "needs_background": "light"
     },
     "output_type": "display_data"
    }
   ],
   "source": [
    "# ...and then, we break it down by the speed limits of the two groups we care about\n",
    "\n",
    "wmph = df[df['MINORITY']=='W']['MPHOVER'].dropna()\n",
    "mmph = df[df['MINORITY']=='M']['MPHOVER'].dropna()\n",
    "\n",
    "bins = np.linspace(0, 100, 20)\n",
    "plt.hist(wmph, bins, alpha=0.6, color=\"blue\")\n",
    "plt.hist(mmph, bins, alpha=0.75, color=\"red\")\n",
    "plt.show()"
   ]
  },
  {
   "cell_type": "code",
   "execution_count": 15,
   "metadata": {},
   "outputs": [
    {
     "data": {
      "text/plain": [
       "(array([2.26332441e-03, 4.49744463e-02, 7.15453882e-02, 5.31151132e-02,\n",
       "        1.29423217e-02, 3.63105378e-03, 1.01241178e-03, 3.30980774e-04,\n",
       "        9.97809686e-05, 4.86736432e-05, 1.94694573e-05, 2.43368216e-06,\n",
       "        2.43368216e-06, 9.73472864e-06, 2.43368216e-06, 0.00000000e+00,\n",
       "        0.00000000e+00, 0.00000000e+00, 0.00000000e+00]),\n",
       " array([  0.        ,   5.26315789,  10.52631579,  15.78947368,\n",
       "         21.05263158,  26.31578947,  31.57894737,  36.84210526,\n",
       "         42.10526316,  47.36842105,  52.63157895,  57.89473684,\n",
       "         63.15789474,  68.42105263,  73.68421053,  78.94736842,\n",
       "         84.21052632,  89.47368421,  94.73684211, 100.        ]),\n",
       " <a list of 19 Patch objects>)"
      ]
     },
     "execution_count": 15,
     "metadata": {},
     "output_type": "execute_result"
    },
    {
     "data": {
      "image/png": "[encoded data removed]",
      "text/plain": [
       "<Figure size 432x288 with 1 Axes>"
      ]
     },
     "metadata": {
      "needs_background": "light"
     },
     "output_type": "display_data"
    }
   ],
   "source": [
    "# The above is hard to read because we're using absolute values. \n",
    "# So, let's change it to percentage counts.\n",
    "plt.hist(wmph, bins, alpha=0.5, density=True, color=\"blue\")\n",
    "\n",
    "# Note: if you're using an older version of matplotlib, \n",
    "# you'll need to use `normed` instead of `density` above."
   ]
  },
  {
   "cell_type": "code",
   "execution_count": 16,
   "metadata": {},
   "outputs": [
    {
     "data": {
      "text/plain": [
       "(array([2.20001586e-03, 4.55674518e-02, 6.66936315e-02, 5.09318741e-02,\n",
       "        1.58973749e-02, 5.50003965e-03, 2.03426124e-03, 6.78087081e-04,\n",
       "        3.01372036e-04, 9.04116108e-05, 4.52058054e-05, 3.01372036e-05,\n",
       "        0.00000000e+00, 1.50686018e-05, 1.50686018e-05, 0.00000000e+00,\n",
       "        0.00000000e+00, 0.00000000e+00, 0.00000000e+00]),\n",
       " array([  0.        ,   5.26315789,  10.52631579,  15.78947368,\n",
       "         21.05263158,  26.31578947,  31.57894737,  36.84210526,\n",
       "         42.10526316,  47.36842105,  52.63157895,  57.89473684,\n",
       "         63.15789474,  68.42105263,  73.68421053,  78.94736842,\n",
       "         84.21052632,  89.47368421,  94.73684211, 100.        ]),\n",
       " <a list of 19 Patch objects>)"
      ]
     },
     "execution_count": 16,
     "metadata": {},
     "output_type": "execute_result"
    },
    {
     "data": {
      "image/png": "[encoded data removed]",
      "text/plain": [
       "<Figure size 432x288 with 1 Axes>"
      ]
     },
     "metadata": {
      "needs_background": "light"
     },
     "output_type": "display_data"
    }
   ],
   "source": [
    "plt.hist(mmph, bins, alpha=0.5, density=True, color=\"red\")"
   ]
  },
  {
   "cell_type": "code",
   "execution_count": 17,
   "metadata": {},
   "outputs": [
    {
     "name": "stdout",
     "output_type": "stream",
     "text": [
      "Non-minority: Mean:: 15.066798170895723 | Median:: 15.0\n",
      "Minority: Mean:: 15.575303354746609 | Median:: 15.0\n"
     ]
    }
   ],
   "source": [
    "# There really doesn't seem to be that much difference between\n",
    "# the speed limits of minorities and non-minorities. Just to doubly \n",
    "# confirm, let's do a quick mean/median between the two groups.\n",
    "\n",
    "print(f\"Non-minority: Mean:: {wmph.mean()} | Median:: {wmph.median()}\")\n",
    "print(f\"Minority: Mean:: {mmph.mean()} | Median:: {mmph.median()}\")"
   ]
  },
  {
   "cell_type": "code",
   "execution_count": 18,
   "metadata": {},
   "outputs": [],
   "source": [
    "# So, it doesn't look like there's that much in the speed differences\n",
    "# between the two groups based simply on \"MINORITY\".\n",
    "# OK, so, let's compare all other demographic attributes. \n",
    "# We're going to use a function, which is copied here from\n",
    "# Jonathan's original workbook from last year:\n",
    "\n",
    "def comparehist(colname):\n",
    "    w = df[df['MINORITY']=='W'][colname].dropna()\n",
    "    m = df[df['MINORITY']=='M'][colname].dropna()\n",
    "    \n",
    "    if df[colname].dtype == np.float64:\n",
    "        # it's numeric, plot a histogram\n",
    "        bins = np.linspace(0, 100, 20)\n",
    "        plt.hist(w, bins, alpha=0.5, density=True, color=\"blue\")\n",
    "        plt.hist(m, bins, alpha=0.5, density=True, color=\"red\")\n",
    "    else:\n",
    "        # if not numerican, assume it's categorical and plot a bar chart of value counts normalized to percentages\n",
    "        wc = w.value_counts()\n",
    "        wc /= sum(wc)\n",
    "        plt.bar(wc.index, wc, alpha=0.5, color=[\"blue\", \"green\"])\n",
    "        mc = m.value_counts()\n",
    "        mc /= sum(mc)\n",
    "        plt.bar(mc.index, mc, alpha=0.5, color=[\"red\", \"orange\"])\n",
    "        \n",
    "    plt.title(colname)\n",
    "    plt.show()\n"
   ]
  },
  {
   "cell_type": "code",
   "execution_count": 19,
   "metadata": {},
   "outputs": [
    {
     "data": {
      "image/png": "[encoded data removed]",
      "text/plain": [
       "<Figure size 432x288 with 1 Axes>"
      ]
     },
     "metadata": {
      "needs_background": "light"
     },
     "output_type": "display_data"
    },
    {
     "data": {
      "image/png": "[encoded data removed]",
      "text/plain": [
       "<Figure size 432x288 with 1 Axes>"
      ]
     },
     "metadata": {
      "needs_background": "light"
     },
     "output_type": "display_data"
    },
    {
     "data": {
      "image/png": "[encoded data removed]",
      "text/plain": [
       "<Figure size 432x288 with 1 Axes>"
      ]
     },
     "metadata": {
      "needs_background": "light"
     },
     "output_type": "display_data"
    }
   ],
   "source": [
    "comparehist('AGE')\n",
    "comparehist('SEX')\n",
    "# comparehist('MPH')\n",
    "# comparehist('MPHOVER')\n",
    "# comparehist('AGENCY3')\n",
    "comparehist('INTOWN')"
   ]
  },
  {
   "cell_type": "code",
   "execution_count": 20,
   "metadata": {},
   "outputs": [
    {
     "data": {
      "text/html": [
       "<div>\n",
       "<style scoped>\n",
       "    .dataframe tbody tr th:only-of-type {\n",
       "        vertical-align: middle;\n",
       "    }\n",
       "\n",
       "    .dataframe tbody tr th {\n",
       "        vertical-align: top;\n",
       "    }\n",
       "\n",
       "    .dataframe thead th {\n",
       "        text-align: right;\n",
       "    }\n",
       "</style>\n",
       "<table border=\"1\" class=\"dataframe\">\n",
       "  <thead>\n",
       "    <tr style=\"text-align: right;\">\n",
       "      <th>SEX</th>\n",
       "      <th>F</th>\n",
       "      <th>M</th>\n",
       "      <th>U</th>\n",
       "    </tr>\n",
       "    <tr>\n",
       "      <th>MINORITY</th>\n",
       "      <th></th>\n",
       "      <th></th>\n",
       "      <th></th>\n",
       "    </tr>\n",
       "  </thead>\n",
       "  <tbody>\n",
       "    <tr>\n",
       "      <th>M</th>\n",
       "      <td>0.296588</td>\n",
       "      <td>0.701231</td>\n",
       "      <td>0.002181</td>\n",
       "    </tr>\n",
       "    <tr>\n",
       "      <th>W</th>\n",
       "      <td>0.400442</td>\n",
       "      <td>0.598852</td>\n",
       "      <td>0.000706</td>\n",
       "    </tr>\n",
       "  </tbody>\n",
       "</table>\n",
       "</div>"
      ],
      "text/plain": [
       "SEX              F         M         U\n",
       "MINORITY                              \n",
       "M         0.296588  0.701231  0.002181\n",
       "W         0.400442  0.598852  0.000706"
      ]
     },
     "execution_count": 20,
     "metadata": {},
     "output_type": "execute_result"
    }
   ],
   "source": [
    "# Right, let's just look at % numbers. \n",
    "pd.crosstab(df.MINORITY, df.SEX, normalize='index')"
   ]
  },
  {
   "cell_type": "markdown",
   "metadata": {},
   "source": [
    "### Logistic Regression\n",
    "\n",
    "Right, so now we've done all of this, we're going to try predicting whether someone got a ticket or not using logistic regression. This goes a long way to showing if there's any bias in the system."
   ]
  },
  {
   "cell_type": "code",
   "execution_count": 21,
   "metadata": {},
   "outputs": [],
   "source": [
    "# Add a new column to our original dataframe to see whether someone's been ticketed or not.\n",
    "# Basically, replace characters with numbers.\n",
    "df[\"TICKETED\"] = df[\"TYPE\"].replace({\"W\": 0, \"T\": 1})\n",
    "\n",
    "# Remove NA/NULL columns, and then sort by MPHOVER\n",
    "df = df[~df['MPHOVER'].isnull()].reset_index().sort_values(by=\"MPHOVER\")"
   ]
  },
  {
   "cell_type": "code",
   "execution_count": 22,
   "metadata": {},
   "outputs": [
    {
     "data": {
      "text/plain": [
       "<matplotlib.axes._subplots.AxesSubplot at 0x2050139a548>"
      ]
     },
     "execution_count": 22,
     "metadata": {},
     "output_type": "execute_result"
    },
    {
     "data": {
      "image/png": "[encoded data removed]",
      "text/plain": [
       "<Figure size 432x288 with 1 Axes>"
      ]
     },
     "metadata": {
      "needs_background": "light"
     },
     "output_type": "display_data"
    }
   ],
   "source": [
    "x = df[['MPHOVER']].values\n",
    "y = df[['TICKETED']].values\n",
    "df.plot(kind='scatter', x='MPHOVER', y='TICKETED')"
   ]
  },
  {
   "cell_type": "code",
   "execution_count": 23,
   "metadata": {},
   "outputs": [
    {
     "data": {
      "text/plain": [
       "[<matplotlib.lines.Line2D at 0x20500e1e248>]"
      ]
     },
     "execution_count": 23,
     "metadata": {},
     "output_type": "execute_result"
    },
    {
     "data": {
      "image/png": "[encoded data removed]",
      "text/plain": [
       "<Figure size 432x288 with 1 Axes>"
      ]
     },
     "metadata": {
      "needs_background": "light"
     },
     "output_type": "display_data"
    }
   ],
   "source": [
    "# Let's just have a quick look to see what a logistic function looks like.\n",
    "def logistic(x):\n",
    "    return 1 / (1 + np.exp(-x))\n",
    "\n",
    "linear_range = np.linspace(-10,10)\n",
    "plt.plot(linear_range, logistic(linear_range))"
   ]
  },
  {
   "cell_type": "code",
   "execution_count": 24,
   "metadata": {},
   "outputs": [
    {
     "name": "stderr",
     "output_type": "stream",
     "text": [
      "C:\\Program Files\\Python37\\lib\\site-packages\\sklearn\\linear_model\\logistic.py:432: FutureWarning: Default solver will be changed to 'lbfgs' in 0.22. Specify a solver to silence this warning.\n",
      "  FutureWarning)\n",
      "C:\\Program Files\\Python37\\lib\\site-packages\\sklearn\\utils\\validation.py:724: DataConversionWarning: A column-vector y was passed when a 1d array was expected. Please change the shape of y to (n_samples, ), for example using ravel().\n",
      "  y = column_or_1d(y, warn=True)\n"
     ]
    },
    {
     "data": {
      "text/plain": [
       "[<matplotlib.lines.Line2D at 0x205012f09c8>]"
      ]
     },
     "execution_count": 24,
     "metadata": {},
     "output_type": "execute_result"
    },
    {
     "data": {
      "image/png": "[encoded data removed]",
      "text/plain": [
       "<Figure size 432x288 with 1 Axes>"
      ]
     },
     "metadata": {
      "needs_background": "light"
     },
     "output_type": "display_data"
    }
   ],
   "source": [
    "# ...and let's fit our data into the logistic function.\n",
    "lm = LogisticRegression()\n",
    "lm.fit(x,y)\n",
    "\n",
    "df.plot(kind='scatter', x='MPHOVER', y='TICKETED')\n",
    "\n",
    "m = lm.coef_[0]\n",
    "b = lm.intercept_\n",
    "line_y = m*x+b\n",
    "prediction = logistic(line_y) \n",
    "plt.plot(x, prediction, '-', color='m')\n"
   ]
  },
  {
   "cell_type": "markdown",
   "metadata": {},
   "source": [
    "OK, so above we only see one independent variable—MPHOVER—and the impact that has on getting a ticket. But, what about the other demographic data we looked at?"
   ]
  },
  {
   "cell_type": "code",
   "execution_count": 25,
   "metadata": {},
   "outputs": [],
   "source": [
    "# Let's restructure this in a way logistic regression likes, \n",
    "# i.e. binary\n",
    "df.SEX = df.SEX.replace({'M':0, 'F':1, 'U':0})\n",
    "df.MINORITY = df.MINORITY.replace({'W':0, 'M':1})\n",
    "df.INTOWN = df.INTOWN.replace({'N':0, 'Y':1, 'U':0})\n",
    "\n",
    "df = df[~df.AGE.isnull()].reset_index()"
   ]
  },
  {
   "cell_type": "code",
   "execution_count": 26,
   "metadata": {},
   "outputs": [
    {
     "name": "stderr",
     "output_type": "stream",
     "text": [
      "C:\\Program Files\\Python37\\lib\\site-packages\\sklearn\\linear_model\\logistic.py:432: FutureWarning: Default solver will be changed to 'lbfgs' in 0.22. Specify a solver to silence this warning.\n",
      "  FutureWarning)\n",
      "C:\\Program Files\\Python37\\lib\\site-packages\\sklearn\\utils\\validation.py:724: DataConversionWarning: A column-vector y was passed when a 1d array was expected. Please change the shape of y to (n_samples, ), for example using ravel().\n",
      "  y = column_or_1d(y, warn=True)\n"
     ]
    },
    {
     "data": {
      "text/html": [
       "<div>\n",
       "<style scoped>\n",
       "    .dataframe tbody tr th:only-of-type {\n",
       "        vertical-align: middle;\n",
       "    }\n",
       "\n",
       "    .dataframe tbody tr th {\n",
       "        vertical-align: top;\n",
       "    }\n",
       "\n",
       "    .dataframe thead th {\n",
       "        text-align: right;\n",
       "    }\n",
       "</style>\n",
       "<table border=\"1\" class=\"dataframe\">\n",
       "  <thead>\n",
       "    <tr style=\"text-align: right;\">\n",
       "      <th></th>\n",
       "      <th>MPHOVER</th>\n",
       "      <th>MINORITY</th>\n",
       "      <th>SEX</th>\n",
       "      <th>AGE</th>\n",
       "      <th>INTOWN</th>\n",
       "    </tr>\n",
       "  </thead>\n",
       "  <tbody>\n",
       "    <tr>\n",
       "      <th>0</th>\n",
       "      <td>1.169127</td>\n",
       "      <td>1.461251</td>\n",
       "      <td>0.72036</td>\n",
       "      <td>0.985098</td>\n",
       "      <td>0.508197</td>\n",
       "    </tr>\n",
       "  </tbody>\n",
       "</table>\n",
       "</div>"
      ],
      "text/plain": [
       "    MPHOVER  MINORITY      SEX       AGE    INTOWN\n",
       "0  1.169127  1.461251  0.72036  0.985098  0.508197"
      ]
     },
     "execution_count": 26,
     "metadata": {},
     "output_type": "execute_result"
    }
   ],
   "source": [
    "# Now we include all of the above independent variables in our logistic regression.\n",
    "fields = ['MPHOVER','MINORITY','SEX', 'AGE', 'INTOWN']\n",
    "x = df[fields].values\n",
    "y = df[['TICKETED']].values\n",
    "lm = LogisticRegression() \n",
    "lm.fit(x,y)\n",
    "       \n",
    "# And, this gives us the coefficient values ***all other things remaining equal***. \n",
    "results = pd.DataFrame(np.exp(lm.coef_), columns=fields)\n",
    "results\n",
    "\n",
    "## REMEMBER: Positive coefficients contribute to category 1 (TICKETED) in our case and negative to category 0. \n"
   ]
  },
  {
   "cell_type": "code",
   "execution_count": 27,
   "metadata": {},
   "outputs": [
    {
     "data": {
      "text/plain": [
       "0.6484271596223419"
      ]
     },
     "execution_count": 27,
     "metadata": {},
     "output_type": "execute_result"
    }
   ],
   "source": [
    "lm.score(x,y)"
   ]
  },
  {
   "cell_type": "code",
   "execution_count": 28,
   "metadata": {},
   "outputs": [
    {
     "data": {
      "text/plain": [
       "array([[0.20657714, 0.79342286]])"
      ]
     },
     "execution_count": 28,
     "metadata": {},
     "output_type": "execute_result"
    }
   ],
   "source": [
    "# Testing probabilities for a person with explicit qualities\n",
    "# fields = ['MPHOVER','MINORITY','SEX', 'AGE', 'INTOWN']\n",
    "\n",
    "lm.predict_proba([[20.0, 0, 0, 22, 0]])"
   ]
  }
 ],
 "metadata": {
  "kernelspec": {
   "display_name": "Python 3",
   "language": "python",
   "name": "python3"
  },
  "language_info": {
   "codemirror_mode": {
    "name": "ipython",
    "version": 3
   },
   "file_extension": ".py",
   "mimetype": "text/x-python",
   "name": "python",
   "nbconvert_exporter": "python",
   "pygments_lexer": "ipython3",
   "version": "3.7.4"
  }
 },
 "nbformat": 4,
 "nbformat_minor": 2
}

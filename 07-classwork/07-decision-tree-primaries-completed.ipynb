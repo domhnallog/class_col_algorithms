{
 "cells": [
  {
   "cell_type": "code",
   "execution_count": 1,
   "metadata": {},
   "outputs": [],
   "source": [
    "import pandas as pd\n",
    "import numpy as np\n",
    "import matplotlib.pyplot as plt\n",
    "import seaborn as sns\n",
    "%matplotlib inline"
   ]
  },
  {
   "cell_type": "markdown",
   "metadata": {},
   "source": [
    "### Import the data \"primaries.csv\""
   ]
  },
  {
   "cell_type": "code",
   "execution_count": 2,
   "metadata": {},
   "outputs": [
    {
     "name": "stdout",
     "output_type": "stream",
     "text": [
      "<class 'pandas.core.frame.DataFrame'>\n",
      "RangeIndex: 2450 entries, 0 to 2449\n",
      "Data columns (total 50 columns):\n",
      "fips                   2450 non-null int64\n",
      "county_name            2450 non-null object\n",
      "state_postal           2450 non-null object\n",
      "region                 2450 non-null object\n",
      "election_date          2450 non-null object\n",
      "racetype               2450 non-null object\n",
      "tvotes                 2450 non-null int64\n",
      "clinton                2450 non-null int64\n",
      "obama                  2450 non-null int64\n",
      "edwards                2450 non-null int64\n",
      "margin                 2450 non-null float64\n",
      "winner                 2430 non-null object\n",
      "POP05_SQMI             2449 non-null float64\n",
      "popUnder30_00          2449 non-null float64\n",
      "pop65up_00             2449 non-null float64\n",
      "presVote04             2449 non-null float64\n",
      "kerry04                2449 non-null float64\n",
      "Bush04                 2449 non-null float64\n",
      "pres04margin           2449 non-null float64\n",
      "pres04winner           2449 non-null object\n",
      "pop06                  2449 non-null float64\n",
      "pop00                  2449 non-null float64\n",
      "hisp06                 2449 non-null float64\n",
      "white06                2449 non-null float64\n",
      "black06                2449 non-null float64\n",
      "indian06               2449 non-null float64\n",
      "asian06                2449 non-null float64\n",
      "hawaii06               2449 non-null float64\n",
      "mixed06                2449 non-null float64\n",
      "pct_less_30k           2448 non-null float64\n",
      "pct_more_100k          2448 non-null float64\n",
      "pct_hs_grad            2448 non-null float64\n",
      "pct_labor_force        2448 non-null float64\n",
      "pct_homeowner          2448 non-null float64\n",
      "unempFeb07             2441 non-null float64\n",
      "unempFeb08             2441 non-null float64\n",
      "unempChg               2441 non-null float64\n",
      "pctUnins00             2448 non-null float64\n",
      "subForPctHomes         2442 non-null float64\n",
      "poverty05              2450 non-null float64\n",
      "median_hhi05           2450 non-null int64\n",
      "Catholic               2447 non-null float64\n",
      "So.Bapt.Conv           2447 non-null float64\n",
      "Un.Methodist           2447 non-null float64\n",
      "E.L.C.A.               2447 non-null float64\n",
      "Construction           2447 non-null float64\n",
      "Manufacturing          2447 non-null float64\n",
      "FinancialActivities    2449 non-null float64\n",
      "GoodsProducing         2445 non-null float64\n",
      "ServiceProviding       2448 non-null float64\n",
      "dtypes: float64(37), int64(6), object(7)\n",
      "memory usage: 957.2+ KB\n"
     ]
    }
   ],
   "source": [
    "df = pd.read_csv('primaries.csv')\n",
    "df.head()\n",
    "df.info()"
   ]
  },
  {
   "cell_type": "markdown",
   "metadata": {},
   "source": [
    "#### Primary\n",
    "\n",
    "The data we are going to use is not from the criminal justice system.\n",
    "\n",
    "It comes from the election in 2008, and specifically during the primaries. It was developed by Amanda Cox, a visual journalist at The New York Times. Here is her graphic:https://archive.nytimes.com/www.nytimes.com/imagepages/2008/04/16/us/20080416_OBAMA_GRAPHIC.html Have a look. The tree is like a game of 20 questions. If you want to know how a county will vote, answer a few questions. What is the racial makeup? What about the HS graduation rate? Where in the country is the county?\n",
    "\n",
    "The questions are in the form of a tree -- as we have seen before, computer scientists grow their trees upside down. As you answer questions, you eventually end up at a leaf and a decision is made. Note that it's not perfect -- there is some uncertainty in the decision."
   ]
  },
  {
   "cell_type": "markdown",
   "metadata": {},
   "source": [
    "### Check how NY state has voted on the primaries"
   ]
  },
  {
   "cell_type": "code",
   "execution_count": 3,
   "metadata": {},
   "outputs": [],
   "source": [
    "ny_vote = df[df.state_postal == 'NY'][['county_name', 'winner']]"
   ]
  },
  {
   "cell_type": "markdown",
   "metadata": {},
   "source": [
    "### Calculate how many counties voted for Clinton & how many for Obama?"
   ]
  },
  {
   "cell_type": "code",
   "execution_count": 4,
   "metadata": {},
   "outputs": [
    {
     "data": {
      "text/plain": [
       "clinton    1369\n",
       "obama      1061\n",
       "Name: winner, dtype: int64"
      ]
     },
     "execution_count": 4,
     "metadata": {},
     "output_type": "execute_result"
    }
   ],
   "source": [
    "df.winner.value_counts()"
   ]
  },
  {
   "cell_type": "markdown",
   "metadata": {},
   "source": [
    "### Now, given all the features in df, which ones \"explain\" county-level voting patterns? \n",
    "\n",
    "Hint: Consider whether or not a majority of the county voted for Bush in 2004"
   ]
  },
  {
   "cell_type": "code",
   "execution_count": 5,
   "metadata": {},
   "outputs": [
    {
     "data": {
      "text/plain": [
       "pres04winner  winner \n",
       "bush          clinton    1178\n",
       "              obama       760\n",
       "kerry         obama       300\n",
       "              clinton     191\n",
       "Name: winner, dtype: int64"
      ]
     },
     "execution_count": 5,
     "metadata": {},
     "output_type": "execute_result"
    }
   ],
   "source": [
    "df.groupby([ 'pres04winner']).winner.value_counts()"
   ]
  },
  {
   "cell_type": "code",
   "execution_count": 6,
   "metadata": {},
   "outputs": [
    {
     "data": {
      "text/plain": [
       "0.6109979633401222"
      ]
     },
     "execution_count": 6,
     "metadata": {},
     "output_type": "execute_result"
    }
   ],
   "source": [
    "#Out of all the counties that voted for Kerry, how many voted for Obama\n",
    "300/(300+191)"
   ]
  },
  {
   "cell_type": "code",
   "execution_count": 7,
   "metadata": {},
   "outputs": [
    {
     "data": {
      "text/plain": [
       "0.6078431372549019"
      ]
     },
     "execution_count": 7,
     "metadata": {},
     "output_type": "execute_result"
    }
   ],
   "source": [
    "# Out of all the counties that voted for Bush, how many voted for Clinton\n",
    "1178/(1178+760)"
   ]
  },
  {
   "cell_type": "markdown",
   "metadata": {},
   "source": [
    "Therefore, Obama won about 61% of those counties not voting for Bush in 04, while Clinton won about 60% of those counties that did vote for Bush in 04. \n",
    "\n",
    "#### Now, consider the simple prediction rule: If a county voted for Bush in 04, we’ll say that they will vote for Clinton in the primary, while if a county was mostly in favor of Kerry in 04, we’ll assign the win to Obama.\n",
    "Is it a good rule?\n",
    "\n",
    "Of course this rule isn’t perfect; by applying it, we would make 191 + 760 = 951 mistakes (out of 2,430 counties, or about 39% error); we refer to these mistakes as having been \"misclassified\" by our simple rule. So the question becomes, can we do any better? What do you think?"
   ]
  },
  {
   "cell_type": "markdown",
   "metadata": {},
   "source": [
    "### Use decision tree to predict who is going to win the election"
   ]
  },
  {
   "cell_type": "markdown",
   "metadata": {},
   "source": [
    "1. Start by selecting all the necessary columns\n",
    "2. Convert categorical data (the `region` column) to numeric values\n",
    "3. Separate data into train and test\n",
    "4. Build a decision tree\n",
    "5. Fit the data"
   ]
  },
  {
   "cell_type": "code",
   "execution_count": 24,
   "metadata": {},
   "outputs": [],
   "source": [
    "from sklearn import tree\n",
    "from sklearn.model_selection import train_test_split\n",
    "from sklearn import metrics\n",
    "\n",
    "df.dropna(inplace=True)\n",
    "X = df[['region','pres04margin', 'black06','hisp06','white06',\n",
    "            'pct_less_30k','pct_more_100k','pct_hs_grad','pct_homeowner','POP05_SQMI']]\n",
    "X = pd.get_dummies(X, drop_first=True)\n",
    "\n",
    "# Split dataset into training set and test set\n",
    "X_train, X_test, y_train, y_test = train_test_split(X, df.winner, test_size=0.3) # 70% training and 30% test\n",
    "\n",
    "clf = tree.DecisionTreeClassifier(max_depth = 3)\n",
    "clf = clf.fit(X_train, y_train)"
   ]
  },
  {
   "cell_type": "markdown",
   "metadata": {},
   "source": [
    "#### Evaluate your model: calculate the accuracy ( the fraction of predictions our model got right)"
   ]
  },
  {
   "cell_type": "code",
   "execution_count": 22,
   "metadata": {},
   "outputs": [
    {
     "name": "stdout",
     "output_type": "stream",
     "text": [
      "Accuracy: 0.7012448132780082\n"
     ]
    }
   ],
   "source": [
    "#Import scikit-learn metrics module for accuracy calculation\n",
    "from sklearn import metrics\n",
    "\n",
    "y_pred=clf.predict(X_test)\n",
    "\n",
    "# Model Accuracy, how often is the classifier correct?\n",
    "print(\"Accuracy:\",metrics.accuracy_score(y_test, y_pred)) "
   ]
  },
  {
   "cell_type": "code",
   "execution_count": 23,
   "metadata": {},
   "outputs": [
    {
     "data": {
      "text/plain": [
       "array([[284, 112],\n",
       "       [104, 223]])"
      ]
     },
     "execution_count": 23,
     "metadata": {},
     "output_type": "execute_result"
    }
   ],
   "source": [
    "metrics.confusion_matrix(y_test, y_pred)"
   ]
  },
  {
   "cell_type": "markdown",
   "metadata": {},
   "source": [
    "#### Predict the winner in the county of your choice"
   ]
  },
  {
   "cell_type": "code",
   "execution_count": 10,
   "metadata": {},
   "outputs": [
    {
     "data": {
      "text/plain": [
       "array(['obama'], dtype=object)"
      ]
     },
     "execution_count": 10,
     "metadata": {},
     "output_type": "execute_result"
    }
   ],
   "source": [
    "clf.predict([[0.049557,527.0,2885.0,61063.0,0.3996,0.058778,0.8549,0.7277,38.7,0,0,1]])"
   ]
  },
  {
   "cell_type": "markdown",
   "metadata": {},
   "source": [
    "### Plot the results\n",
    "We're going to use graphviz to plot the results.\n",
    "You can install it by running `!brew install graphviz`\n"
   ]
  },
  {
   "cell_type": "code",
   "execution_count": 11,
   "metadata": {
    "scrolled": false
   },
   "outputs": [],
   "source": [
    "from sklearn.tree import export_graphviz\n",
    "# get column names\n",
    "feature_names = list(X.columns)\n",
    "#create a graphviz object\n",
    "tree_dot = export_graphviz(clf, out_file=None, feature_names=feature_names)\n"
   ]
  },
  {
   "cell_type": "code",
   "execution_count": 12,
   "metadata": {},
   "outputs": [
    {
     "data": {
      "image/svg+xml": [
       "<?xml version=\"1.0\" encoding=\"UTF-8\" standalone=\"no\"?>\n",
       "<!DOCTYPE svg PUBLIC \"-//W3C//DTD SVG 1.1//EN\"\n",
       " \"http://www.w3.org/Graphics/SVG/1.1/DTD/svg11.dtd\">\n",
       "<!-- Generated by graphviz version 2.40.1 (20161225.0304)\n",
       " -->\n",
       "<!-- Title: Tree Pages: 1 -->\n",
       "<svg width=\"1008pt\" height=\"358pt\"\n",
       " viewBox=\"0.00 0.00 1008.04 358.00\" xmlns=\"http://www.w3.org/2000/svg\" xmlns:xlink=\"http://www.w3.org/1999/xlink\">\n",
       "<g id=\"graph0\" class=\"graph\" transform=\"scale(1 1) rotate(0) translate(4 354)\">\n",
       "<title>Tree</title>\n",
       "<polygon fill=\"#ffffff\" stroke=\"transparent\" points=\"-4,4 -4,-354 1004.0371,-354 1004.0371,4 -4,4\"/>\n",
       "<!-- 0 -->\n",
       "<g id=\"node1\" class=\"node\">\n",
       "<title>0</title>\n",
       "<polygon fill=\"none\" stroke=\"#000000\" points=\"560.3776,-350 439.1595,-350 439.1595,-286 560.3776,-286 560.3776,-350\"/>\n",
       "<text text-anchor=\"middle\" x=\"499.7686\" y=\"-334.8\" font-family=\"Times,serif\" font-size=\"14.00\" fill=\"#000000\">black06 &lt;= 5547.0</text>\n",
       "<text text-anchor=\"middle\" x=\"499.7686\" y=\"-320.8\" font-family=\"Times,serif\" font-size=\"14.00\" fill=\"#000000\">gini = 0.493</text>\n",
       "<text text-anchor=\"middle\" x=\"499.7686\" y=\"-306.8\" font-family=\"Times,serif\" font-size=\"14.00\" fill=\"#000000\">samples = 1684</text>\n",
       "<text text-anchor=\"middle\" x=\"499.7686\" y=\"-292.8\" font-family=\"Times,serif\" font-size=\"14.00\" fill=\"#000000\">value = [945, 739]</text>\n",
       "</g>\n",
       "<!-- 1 -->\n",
       "<g id=\"node2\" class=\"node\">\n",
       "<title>1</title>\n",
       "<polygon fill=\"none\" stroke=\"#000000\" points=\"451.9876,-250 313.5495,-250 313.5495,-186 451.9876,-186 451.9876,-250\"/>\n",
       "<text text-anchor=\"middle\" x=\"382.7686\" y=\"-234.8\" font-family=\"Times,serif\" font-size=\"14.00\" fill=\"#000000\">pct_hs_grad &lt;= 0.812</text>\n",
       "<text text-anchor=\"middle\" x=\"382.7686\" y=\"-220.8\" font-family=\"Times,serif\" font-size=\"14.00\" fill=\"#000000\">gini = 0.456</text>\n",
       "<text text-anchor=\"middle\" x=\"382.7686\" y=\"-206.8\" font-family=\"Times,serif\" font-size=\"14.00\" fill=\"#000000\">samples = 1200</text>\n",
       "<text text-anchor=\"middle\" x=\"382.7686\" y=\"-192.8\" font-family=\"Times,serif\" font-size=\"14.00\" fill=\"#000000\">value = [778, 422]</text>\n",
       "</g>\n",
       "<!-- 0&#45;&gt;1 -->\n",
       "<g id=\"edge1\" class=\"edge\">\n",
       "<title>0&#45;&gt;1</title>\n",
       "<path fill=\"none\" stroke=\"#000000\" d=\"M462.105,-285.8089C451.2496,-276.5308 439.2931,-266.3116 428.028,-256.6833\"/>\n",
       "<polygon fill=\"#000000\" stroke=\"#000000\" points=\"430.2373,-253.9674 420.3615,-250.1308 425.6893,-259.2886 430.2373,-253.9674\"/>\n",
       "<text text-anchor=\"middle\" x=\"422.3141\" y=\"-270.8544\" font-family=\"Times,serif\" font-size=\"14.00\" fill=\"#000000\">True</text>\n",
       "</g>\n",
       "<!-- 8 -->\n",
       "<g id=\"node9\" class=\"node\">\n",
       "<title>8</title>\n",
       "<polygon fill=\"none\" stroke=\"#000000\" points=\"690.6637,-250 560.8734,-250 560.8734,-186 690.6637,-186 690.6637,-250\"/>\n",
       "<text text-anchor=\"middle\" x=\"625.7686\" y=\"-234.8\" font-family=\"Times,serif\" font-size=\"14.00\" fill=\"#000000\">white06 &lt;= 27659.5</text>\n",
       "<text text-anchor=\"middle\" x=\"625.7686\" y=\"-220.8\" font-family=\"Times,serif\" font-size=\"14.00\" fill=\"#000000\">gini = 0.452</text>\n",
       "<text text-anchor=\"middle\" x=\"625.7686\" y=\"-206.8\" font-family=\"Times,serif\" font-size=\"14.00\" fill=\"#000000\">samples = 484</text>\n",
       "<text text-anchor=\"middle\" x=\"625.7686\" y=\"-192.8\" font-family=\"Times,serif\" font-size=\"14.00\" fill=\"#000000\">value = [167, 317]</text>\n",
       "</g>\n",
       "<!-- 0&#45;&gt;8 -->\n",
       "<g id=\"edge8\" class=\"edge\">\n",
       "<title>0&#45;&gt;8</title>\n",
       "<path fill=\"none\" stroke=\"#000000\" d=\"M540.3293,-285.8089C552.1321,-276.4416 565.1437,-266.115 577.3774,-256.4057\"/>\n",
       "<polygon fill=\"#000000\" stroke=\"#000000\" points=\"579.6267,-259.0889 585.2838,-250.1308 575.2751,-253.6059 579.6267,-259.0889\"/>\n",
       "<text text-anchor=\"middle\" x=\"582.4265\" y=\"-270.7669\" font-family=\"Times,serif\" font-size=\"14.00\" fill=\"#000000\">False</text>\n",
       "</g>\n",
       "<!-- 2 -->\n",
       "<g id=\"node3\" class=\"node\">\n",
       "<title>2</title>\n",
       "<polygon fill=\"none\" stroke=\"#000000\" points=\"250.3066,-150 131.2306,-150 131.2306,-86 250.3066,-86 250.3066,-150\"/>\n",
       "<text text-anchor=\"middle\" x=\"190.7686\" y=\"-134.8\" font-family=\"Times,serif\" font-size=\"14.00\" fill=\"#000000\">region_W &lt;= 0.5</text>\n",
       "<text text-anchor=\"middle\" x=\"190.7686\" y=\"-120.8\" font-family=\"Times,serif\" font-size=\"14.00\" fill=\"#000000\">gini = 0.344</text>\n",
       "<text text-anchor=\"middle\" x=\"190.7686\" y=\"-106.8\" font-family=\"Times,serif\" font-size=\"14.00\" fill=\"#000000\">samples = 797</text>\n",
       "<text text-anchor=\"middle\" x=\"190.7686\" y=\"-92.8\" font-family=\"Times,serif\" font-size=\"14.00\" fill=\"#000000\">value = [621, 176]</text>\n",
       "</g>\n",
       "<!-- 1&#45;&gt;2 -->\n",
       "<g id=\"edge2\" class=\"edge\">\n",
       "<title>1&#45;&gt;2</title>\n",
       "<path fill=\"none\" stroke=\"#000000\" d=\"M321.2263,-185.9467C301.5368,-175.6918 279.6176,-164.2756 259.4524,-153.7729\"/>\n",
       "<polygon fill=\"#000000\" stroke=\"#000000\" points=\"260.811,-150.5342 250.3251,-149.019 257.5775,-156.7426 260.811,-150.5342\"/>\n",
       "</g>\n",
       "<!-- 5 -->\n",
       "<g id=\"node6\" class=\"node\">\n",
       "<title>5</title>\n",
       "<polygon fill=\"none\" stroke=\"#000000\" points=\"456.293,-150 309.2441,-150 309.2441,-86 456.293,-86 456.293,-150\"/>\n",
       "<text text-anchor=\"middle\" x=\"382.7686\" y=\"-134.8\" font-family=\"Times,serif\" font-size=\"14.00\" fill=\"#000000\">pres04margin &lt;= 0.064</text>\n",
       "<text text-anchor=\"middle\" x=\"382.7686\" y=\"-120.8\" font-family=\"Times,serif\" font-size=\"14.00\" fill=\"#000000\">gini = 0.476</text>\n",
       "<text text-anchor=\"middle\" x=\"382.7686\" y=\"-106.8\" font-family=\"Times,serif\" font-size=\"14.00\" fill=\"#000000\">samples = 403</text>\n",
       "<text text-anchor=\"middle\" x=\"382.7686\" y=\"-92.8\" font-family=\"Times,serif\" font-size=\"14.00\" fill=\"#000000\">value = [157, 246]</text>\n",
       "</g>\n",
       "<!-- 1&#45;&gt;5 -->\n",
       "<g id=\"edge5\" class=\"edge\">\n",
       "<title>1&#45;&gt;5</title>\n",
       "<path fill=\"none\" stroke=\"#000000\" d=\"M382.7686,-185.8089C382.7686,-177.6906 382.7686,-168.8517 382.7686,-160.3186\"/>\n",
       "<polygon fill=\"#000000\" stroke=\"#000000\" points=\"386.2687,-160.1307 382.7686,-150.1308 379.2687,-160.1308 386.2687,-160.1307\"/>\n",
       "</g>\n",
       "<!-- 3 -->\n",
       "<g id=\"node4\" class=\"node\">\n",
       "<title>3</title>\n",
       "<polygon fill=\"none\" stroke=\"#000000\" points=\"119.3066,-50 .2306,-50 .2306,0 119.3066,0 119.3066,-50\"/>\n",
       "<text text-anchor=\"middle\" x=\"59.7686\" y=\"-34.8\" font-family=\"Times,serif\" font-size=\"14.00\" fill=\"#000000\">gini = 0.304</text>\n",
       "<text text-anchor=\"middle\" x=\"59.7686\" y=\"-20.8\" font-family=\"Times,serif\" font-size=\"14.00\" fill=\"#000000\">samples = 722</text>\n",
       "<text text-anchor=\"middle\" x=\"59.7686\" y=\"-6.8\" font-family=\"Times,serif\" font-size=\"14.00\" fill=\"#000000\">value = [587, 135]</text>\n",
       "</g>\n",
       "<!-- 2&#45;&gt;3 -->\n",
       "<g id=\"edge3\" class=\"edge\">\n",
       "<title>2&#45;&gt;3</title>\n",
       "<path fill=\"none\" stroke=\"#000000\" d=\"M145.6858,-85.9947C131.9567,-76.2481 116.898,-65.5575 103.2752,-55.8864\"/>\n",
       "<polygon fill=\"#000000\" stroke=\"#000000\" points=\"105.1836,-52.9489 95.0034,-50.014 101.1314,-58.6568 105.1836,-52.9489\"/>\n",
       "</g>\n",
       "<!-- 4 -->\n",
       "<g id=\"node5\" class=\"node\">\n",
       "<title>4</title>\n",
       "<polygon fill=\"none\" stroke=\"#000000\" points=\"243.3067,-50 138.2304,-50 138.2304,0 243.3067,0 243.3067,-50\"/>\n",
       "<text text-anchor=\"middle\" x=\"190.7686\" y=\"-34.8\" font-family=\"Times,serif\" font-size=\"14.00\" fill=\"#000000\">gini = 0.496</text>\n",
       "<text text-anchor=\"middle\" x=\"190.7686\" y=\"-20.8\" font-family=\"Times,serif\" font-size=\"14.00\" fill=\"#000000\">samples = 75</text>\n",
       "<text text-anchor=\"middle\" x=\"190.7686\" y=\"-6.8\" font-family=\"Times,serif\" font-size=\"14.00\" fill=\"#000000\">value = [34, 41]</text>\n",
       "</g>\n",
       "<!-- 2&#45;&gt;4 -->\n",
       "<g id=\"edge4\" class=\"edge\">\n",
       "<title>2&#45;&gt;4</title>\n",
       "<path fill=\"none\" stroke=\"#000000\" d=\"M190.7686,-85.9947C190.7686,-77.6273 190.7686,-68.5643 190.7686,-60.0478\"/>\n",
       "<polygon fill=\"#000000\" stroke=\"#000000\" points=\"194.2687,-60.014 190.7686,-50.014 187.2687,-60.0141 194.2687,-60.014\"/>\n",
       "</g>\n",
       "<!-- 6 -->\n",
       "<g id=\"node7\" class=\"node\">\n",
       "<title>6</title>\n",
       "<polygon fill=\"none\" stroke=\"#000000\" points=\"373.8066,-50 261.7305,-50 261.7305,0 373.8066,0 373.8066,-50\"/>\n",
       "<text text-anchor=\"middle\" x=\"317.7686\" y=\"-34.8\" font-family=\"Times,serif\" font-size=\"14.00\" fill=\"#000000\">gini = 0.34</text>\n",
       "<text text-anchor=\"middle\" x=\"317.7686\" y=\"-20.8\" font-family=\"Times,serif\" font-size=\"14.00\" fill=\"#000000\">samples = 138</text>\n",
       "<text text-anchor=\"middle\" x=\"317.7686\" y=\"-6.8\" font-family=\"Times,serif\" font-size=\"14.00\" fill=\"#000000\">value = [30, 108]</text>\n",
       "</g>\n",
       "<!-- 5&#45;&gt;6 -->\n",
       "<g id=\"edge6\" class=\"edge\">\n",
       "<title>5&#45;&gt;6</title>\n",
       "<path fill=\"none\" stroke=\"#000000\" d=\"M360.3992,-85.9947C354.1655,-77.0756 347.3793,-67.3661 341.0921,-58.3706\"/>\n",
       "<polygon fill=\"#000000\" stroke=\"#000000\" points=\"343.849,-56.2054 335.2515,-50.014 338.1115,-60.2156 343.849,-56.2054\"/>\n",
       "</g>\n",
       "<!-- 7 -->\n",
       "<g id=\"node8\" class=\"node\">\n",
       "<title>7</title>\n",
       "<polygon fill=\"none\" stroke=\"#000000\" points=\"511.3066,-50 392.2306,-50 392.2306,0 511.3066,0 511.3066,-50\"/>\n",
       "<text text-anchor=\"middle\" x=\"451.7686\" y=\"-34.8\" font-family=\"Times,serif\" font-size=\"14.00\" fill=\"#000000\">gini = 0.499</text>\n",
       "<text text-anchor=\"middle\" x=\"451.7686\" y=\"-20.8\" font-family=\"Times,serif\" font-size=\"14.00\" fill=\"#000000\">samples = 265</text>\n",
       "<text text-anchor=\"middle\" x=\"451.7686\" y=\"-6.8\" font-family=\"Times,serif\" font-size=\"14.00\" fill=\"#000000\">value = [127, 138]</text>\n",
       "</g>\n",
       "<!-- 5&#45;&gt;7 -->\n",
       "<g id=\"edge7\" class=\"edge\">\n",
       "<title>5&#45;&gt;7</title>\n",
       "<path fill=\"none\" stroke=\"#000000\" d=\"M406.5144,-85.9947C413.2,-76.9837 420.4842,-67.1658 427.2159,-58.0927\"/>\n",
       "<polygon fill=\"#000000\" stroke=\"#000000\" points=\"430.0621,-60.1305 433.2098,-50.014 424.4404,-55.9596 430.0621,-60.1305\"/>\n",
       "</g>\n",
       "<!-- 9 -->\n",
       "<g id=\"node10\" class=\"node\">\n",
       "<title>9</title>\n",
       "<polygon fill=\"none\" stroke=\"#000000\" points=\"686.3776,-150 565.1595,-150 565.1595,-86 686.3776,-86 686.3776,-150\"/>\n",
       "<text text-anchor=\"middle\" x=\"625.7686\" y=\"-134.8\" font-family=\"Times,serif\" font-size=\"14.00\" fill=\"#000000\">black06 &lt;= 5791.5</text>\n",
       "<text text-anchor=\"middle\" x=\"625.7686\" y=\"-120.8\" font-family=\"Times,serif\" font-size=\"14.00\" fill=\"#000000\">gini = 0.124</text>\n",
       "<text text-anchor=\"middle\" x=\"625.7686\" y=\"-106.8\" font-family=\"Times,serif\" font-size=\"14.00\" fill=\"#000000\">samples = 136</text>\n",
       "<text text-anchor=\"middle\" x=\"625.7686\" y=\"-92.8\" font-family=\"Times,serif\" font-size=\"14.00\" fill=\"#000000\">value = [9, 127]</text>\n",
       "</g>\n",
       "<!-- 8&#45;&gt;9 -->\n",
       "<g id=\"edge9\" class=\"edge\">\n",
       "<title>8&#45;&gt;9</title>\n",
       "<path fill=\"none\" stroke=\"#000000\" d=\"M625.7686,-185.8089C625.7686,-177.6906 625.7686,-168.8517 625.7686,-160.3186\"/>\n",
       "<polygon fill=\"#000000\" stroke=\"#000000\" points=\"629.2687,-160.1307 625.7686,-150.1308 622.2687,-160.1308 629.2687,-160.1307\"/>\n",
       "</g>\n",
       "<!-- 12 -->\n",
       "<g id=\"node13\" class=\"node\">\n",
       "<title>12</title>\n",
       "<polygon fill=\"none\" stroke=\"#000000\" points=\"892.9876,-150 754.5495,-150 754.5495,-86 892.9876,-86 892.9876,-150\"/>\n",
       "<text text-anchor=\"middle\" x=\"823.7686\" y=\"-134.8\" font-family=\"Times,serif\" font-size=\"14.00\" fill=\"#000000\">pct_hs_grad &lt;= 0.895</text>\n",
       "<text text-anchor=\"middle\" x=\"823.7686\" y=\"-120.8\" font-family=\"Times,serif\" font-size=\"14.00\" fill=\"#000000\">gini = 0.496</text>\n",
       "<text text-anchor=\"middle\" x=\"823.7686\" y=\"-106.8\" font-family=\"Times,serif\" font-size=\"14.00\" fill=\"#000000\">samples = 348</text>\n",
       "<text text-anchor=\"middle\" x=\"823.7686\" y=\"-92.8\" font-family=\"Times,serif\" font-size=\"14.00\" fill=\"#000000\">value = [158, 190]</text>\n",
       "</g>\n",
       "<!-- 8&#45;&gt;12 -->\n",
       "<g id=\"edge12\" class=\"edge\">\n",
       "<title>8&#45;&gt;12</title>\n",
       "<path fill=\"none\" stroke=\"#000000\" d=\"M689.234,-185.9467C708.9502,-175.989 730.8345,-164.9364 751.1255,-154.6884\"/>\n",
       "<polygon fill=\"#000000\" stroke=\"#000000\" points=\"752.9745,-157.6757 760.3228,-150.0433 749.8188,-151.4274 752.9745,-157.6757\"/>\n",
       "</g>\n",
       "<!-- 10 -->\n",
       "<g id=\"node11\" class=\"node\">\n",
       "<title>10</title>\n",
       "<polygon fill=\"none\" stroke=\"#000000\" points=\"621.3068,-50 530.2303,-50 530.2303,0 621.3068,0 621.3068,-50\"/>\n",
       "<text text-anchor=\"middle\" x=\"575.7686\" y=\"-34.8\" font-family=\"Times,serif\" font-size=\"14.00\" fill=\"#000000\">gini = 0.469</text>\n",
       "<text text-anchor=\"middle\" x=\"575.7686\" y=\"-20.8\" font-family=\"Times,serif\" font-size=\"14.00\" fill=\"#000000\">samples = 8</text>\n",
       "<text text-anchor=\"middle\" x=\"575.7686\" y=\"-6.8\" font-family=\"Times,serif\" font-size=\"14.00\" fill=\"#000000\">value = [3, 5]</text>\n",
       "</g>\n",
       "<!-- 9&#45;&gt;10 -->\n",
       "<g id=\"edge10\" class=\"edge\">\n",
       "<title>9&#45;&gt;10</title>\n",
       "<path fill=\"none\" stroke=\"#000000\" d=\"M608.5614,-85.9947C603.8651,-77.2595 598.7611,-67.7662 594.0094,-58.928\"/>\n",
       "<polygon fill=\"#000000\" stroke=\"#000000\" points=\"597.0351,-57.1644 589.217,-50.014 590.8696,-60.4792 597.0351,-57.1644\"/>\n",
       "</g>\n",
       "<!-- 11 -->\n",
       "<g id=\"node12\" class=\"node\">\n",
       "<title>11</title>\n",
       "<polygon fill=\"none\" stroke=\"#000000\" points=\"745.3067,-50 640.2304,-50 640.2304,0 745.3067,0 745.3067,-50\"/>\n",
       "<text text-anchor=\"middle\" x=\"692.7686\" y=\"-34.8\" font-family=\"Times,serif\" font-size=\"14.00\" fill=\"#000000\">gini = 0.089</text>\n",
       "<text text-anchor=\"middle\" x=\"692.7686\" y=\"-20.8\" font-family=\"Times,serif\" font-size=\"14.00\" fill=\"#000000\">samples = 128</text>\n",
       "<text text-anchor=\"middle\" x=\"692.7686\" y=\"-6.8\" font-family=\"Times,serif\" font-size=\"14.00\" fill=\"#000000\">value = [6, 122]</text>\n",
       "</g>\n",
       "<!-- 9&#45;&gt;11 -->\n",
       "<g id=\"edge11\" class=\"edge\">\n",
       "<title>9&#45;&gt;11</title>\n",
       "<path fill=\"none\" stroke=\"#000000\" d=\"M648.8262,-85.9947C655.2517,-77.0756 662.2467,-67.3661 668.7273,-58.3706\"/>\n",
       "<polygon fill=\"#000000\" stroke=\"#000000\" points=\"671.7421,-60.1736 674.7477,-50.014 666.0625,-56.0819 671.7421,-60.1736\"/>\n",
       "</g>\n",
       "<!-- 13 -->\n",
       "<g id=\"node14\" class=\"node\">\n",
       "<title>13</title>\n",
       "<polygon fill=\"none\" stroke=\"#000000\" points=\"883.3066,-50 764.2306,-50 764.2306,0 883.3066,0 883.3066,-50\"/>\n",
       "<text text-anchor=\"middle\" x=\"823.7686\" y=\"-34.8\" font-family=\"Times,serif\" font-size=\"14.00\" fill=\"#000000\">gini = 0.5</text>\n",
       "<text text-anchor=\"middle\" x=\"823.7686\" y=\"-20.8\" font-family=\"Times,serif\" font-size=\"14.00\" fill=\"#000000\">samples = 324</text>\n",
       "<text text-anchor=\"middle\" x=\"823.7686\" y=\"-6.8\" font-family=\"Times,serif\" font-size=\"14.00\" fill=\"#000000\">value = [158, 166]</text>\n",
       "</g>\n",
       "<!-- 12&#45;&gt;13 -->\n",
       "<g id=\"edge13\" class=\"edge\">\n",
       "<title>12&#45;&gt;13</title>\n",
       "<path fill=\"none\" stroke=\"#000000\" d=\"M823.7686,-85.9947C823.7686,-77.6273 823.7686,-68.5643 823.7686,-60.0478\"/>\n",
       "<polygon fill=\"#000000\" stroke=\"#000000\" points=\"827.2687,-60.014 823.7686,-50.014 820.2687,-60.0141 827.2687,-60.014\"/>\n",
       "</g>\n",
       "<!-- 14 -->\n",
       "<g id=\"node15\" class=\"node\">\n",
       "<title>14</title>\n",
       "<polygon fill=\"none\" stroke=\"#000000\" points=\"999.8067,-50 901.7304,-50 901.7304,0 999.8067,0 999.8067,-50\"/>\n",
       "<text text-anchor=\"middle\" x=\"950.7686\" y=\"-34.8\" font-family=\"Times,serif\" font-size=\"14.00\" fill=\"#000000\">gini = 0.0</text>\n",
       "<text text-anchor=\"middle\" x=\"950.7686\" y=\"-20.8\" font-family=\"Times,serif\" font-size=\"14.00\" fill=\"#000000\">samples = 24</text>\n",
       "<text text-anchor=\"middle\" x=\"950.7686\" y=\"-6.8\" font-family=\"Times,serif\" font-size=\"14.00\" fill=\"#000000\">value = [0, 24]</text>\n",
       "</g>\n",
       "<!-- 12&#45;&gt;14 -->\n",
       "<g id=\"edge14\" class=\"edge\">\n",
       "<title>12&#45;&gt;14</title>\n",
       "<path fill=\"none\" stroke=\"#000000\" d=\"M867.4748,-85.9947C880.659,-76.3401 895.1082,-65.7592 908.2162,-56.1604\"/>\n",
       "<polygon fill=\"#000000\" stroke=\"#000000\" points=\"910.6094,-58.746 916.6096,-50.014 906.4736,-53.0984 910.6094,-58.746\"/>\n",
       "</g>\n",
       "</g>\n",
       "</svg>\n"
      ],
      "text/plain": [
       "<graphviz.files.Source at 0x7fbb504150f0>"
      ]
     },
     "execution_count": 12,
     "metadata": {},
     "output_type": "execute_result"
    }
   ],
   "source": [
    "#!brew install graphviz\n",
    "# vizualize the graphiz object\n",
    "import graphviz\n",
    "graphviz.Source(tree_dot)"
   ]
  },
  {
   "cell_type": "markdown",
   "metadata": {},
   "source": [
    "### Create a Random Forest to predict the winner of the elections\n"
   ]
  },
  {
   "cell_type": "code",
   "execution_count": 13,
   "metadata": {},
   "outputs": [
    {
     "data": {
      "text/plain": [
       "RandomForestClassifier(bootstrap=True, class_weight=None, criterion='gini',\n",
       "            max_depth=10, max_features='auto', max_leaf_nodes=None,\n",
       "            min_impurity_decrease=0.0, min_impurity_split=None,\n",
       "            min_samples_leaf=1, min_samples_split=2,\n",
       "            min_weight_fraction_leaf=0.0, n_estimators=100, n_jobs=None,\n",
       "            oob_score=False, random_state=None, verbose=0,\n",
       "            warm_start=False)"
      ]
     },
     "execution_count": 13,
     "metadata": {},
     "output_type": "execute_result"
    }
   ],
   "source": [
    "from sklearn.ensemble import RandomForestClassifier\n",
    "clf_forest=RandomForestClassifier(n_estimators=100, max_depth = 10)\n",
    "clf_forest.fit(X_train,y_train)"
   ]
  },
  {
   "cell_type": "markdown",
   "metadata": {},
   "source": [
    "#### Find the accuracy of the model"
   ]
  },
  {
   "cell_type": "code",
   "execution_count": 14,
   "metadata": {},
   "outputs": [
    {
     "name": "stdout",
     "output_type": "stream",
     "text": [
      "Accuracy: 0.7952973720608575\n"
     ]
    }
   ],
   "source": [
    "y_pred=clf_forest.predict(X_test)\n",
    "\n",
    "# Model Accuracy, how often is the classifier correct?\n",
    "print(\"Accuracy:\",metrics.accuracy_score(y_test, y_pred))"
   ]
  },
  {
   "cell_type": "markdown",
   "metadata": {},
   "source": [
    "#### Find out which features were the most important\n"
   ]
  },
  {
   "cell_type": "code",
   "execution_count": 15,
   "metadata": {},
   "outputs": [
    {
     "data": {
      "text/plain": [
       "black06          0.196043\n",
       "pct_hs_grad      0.135406\n",
       "pres04margin     0.101981\n",
       "pct_less_30k     0.101951\n",
       "white06          0.091505\n",
       "hisp06           0.086846\n",
       "pct_more_100k    0.082061\n",
       "POP05_SQMI       0.072466\n",
       "pct_homeowner    0.069112\n",
       "region_W         0.033223\n",
       "region_S         0.016905\n",
       "region_NE        0.012501\n",
       "dtype: float64"
      ]
     },
     "execution_count": 15,
     "metadata": {},
     "output_type": "execute_result"
    }
   ],
   "source": [
    "\n",
    "feature_imp = pd.Series(clf_forest.feature_importances_,index=list(X_train.columns)).sort_values(ascending=False)\n",
    "feature_imp"
   ]
  },
  {
   "cell_type": "markdown",
   "metadata": {},
   "source": [
    "#### Will the accuracy improve if remove the `region` field?"
   ]
  },
  {
   "cell_type": "code",
   "execution_count": 16,
   "metadata": {},
   "outputs": [
    {
     "data": {
      "text/plain": [
       "RandomForestClassifier(bootstrap=True, class_weight=None, criterion='gini',\n",
       "            max_depth=None, max_features='auto', max_leaf_nodes=None,\n",
       "            min_impurity_decrease=0.0, min_impurity_split=None,\n",
       "            min_samples_leaf=1, min_samples_split=2,\n",
       "            min_weight_fraction_leaf=0.0, n_estimators=100, n_jobs=None,\n",
       "            oob_score=False, random_state=None, verbose=0,\n",
       "            warm_start=False)"
      ]
     },
     "execution_count": 16,
     "metadata": {},
     "output_type": "execute_result"
    }
   ],
   "source": [
    "X = df[['pres04margin', 'black06','hisp06','white06',\n",
    "            'pct_less_30k','pct_hs_grad','POP05_SQMI']]\n",
    "X = pd.get_dummies(X,drop_first=True)\n",
    "\n",
    "# Split dataset into training set and test set\n",
    "X_train, X_test, y_train, y_test = train_test_split(X, df.winner, test_size=0.3) # 70% training and 30% test\n",
    "clf_forest=RandomForestClassifier(n_estimators=100)\n",
    "clf_forest.fit(X_train,y_train)"
   ]
  },
  {
   "cell_type": "code",
   "execution_count": 17,
   "metadata": {},
   "outputs": [
    {
     "name": "stdout",
     "output_type": "stream",
     "text": [
      "Accuracy: 0.7593360995850622\n"
     ]
    }
   ],
   "source": [
    "y_pred=clf_forest.predict(X_test)\n",
    "\n",
    "# Model Accuracy, how often is the classifier correct?\n",
    "print(\"Accuracy:\",metrics.accuracy_score(y_test, y_pred))"
   ]
  },
  {
   "cell_type": "code",
   "execution_count": 20,
   "metadata": {},
   "outputs": [
    {
     "data": {
      "text/plain": [
       "array([[313,  85],\n",
       "       [ 89, 236]])"
      ]
     },
     "execution_count": 20,
     "metadata": {},
     "output_type": "execute_result"
    }
   ],
   "source": [
    "metrics.confusion_matrix(y_test, y_pred)"
   ]
  }
 ],
 "metadata": {
  "kernelspec": {
   "display_name": "Python 3",
   "language": "python",
   "name": "python3"
  },
  "language_info": {
   "codemirror_mode": {
    "name": "ipython",
    "version": 3
   },
   "file_extension": ".py",
   "mimetype": "text/x-python",
   "name": "python",
   "nbconvert_exporter": "python",
   "pygments_lexer": "ipython3",
   "version": "3.7.4"
  }
 },
 "nbformat": 4,
 "nbformat_minor": 2
}

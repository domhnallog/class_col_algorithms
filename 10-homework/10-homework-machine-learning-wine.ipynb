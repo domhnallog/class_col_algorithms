{
 "cells": [
  {
   "cell_type": "markdown",
   "metadata": {},
   "source": [
    "# Machine learning on wine\n",
    "\n",
    "**Topics:** Text analysis, linear regression, logistic regression, text analysis, classification\n",
    "\n",
    "**Datasets**\n",
    "\n",
    "- **wine-reviews.csv** Wine reviews scraped from https://www.winemag.com/\n",
    "- **Data dictionary:** just go [here](https://www.winemag.com/buying-guide/tenuta-dellornellaia-2007-masseto-merlot-toscana/) and look at the page\n",
    "\n",
    "## The background\n",
    "\n",
    "You work in the **worst newsroom in the world**, and you've had a hard few weeks at work - a couple stories killed, a few scoops stolen out from under you. It's not going well.\n",
    "\n",
    "And because things just can't get any worse: your boss shows up, carrying a huge binder. She slams it down on your desk.\n",
    "\n",
    "\"You know some machine learning stuff, right?\"\n",
    "\n",
    "You say \"no,\" but she isn't listening. She's giving you an assignment, the _worst assignment_:\n",
    "\n",
    "> Machine learning is the new maps. Let's get some hits!\n",
    ">\n",
    "> **Do some machine learning on this stuff.**\n",
    "\n",
    "\"This stuff\" is wine reviews.\n",
    "\n",
    "## A tiny, meagre bit of help\n",
    "\n",
    "You have a dataset. It has some stuff in it:\n",
    "\n",
    "* **Numbers:**\n",
    "    - Year published\n",
    "    - Alcohol percentage\n",
    "    - Price\n",
    "    - Score\n",
    "    - Bottle size\n",
    "* **Categories:**\n",
    "    - Red vs white\n",
    "    - Different countries\n",
    "    - Importer\n",
    "    - Designation\n",
    "    - Taster\n",
    "    - Variety\n",
    "    - Winery\n",
    "* **Free text:**\n",
    "    - Wine description"
   ]
  },
  {
   "cell_type": "markdown",
   "metadata": {},
   "source": [
    "# Cleaning up your data\n",
    "\n",
    "Many of these pieces - the alcohol, the year produced, the bottle size, the country the wine is from - aren't in a format you can use. Convert the ones to numbers that are numbers, and extract the others from the appropriate strings."
   ]
  },
  {
   "cell_type": "code",
   "execution_count": 60,
   "metadata": {},
   "outputs": [],
   "source": [
    "import pandas as pd\n",
    "import numpy as np\n",
    "import seaborn as sns\n",
    "\n",
    "%matplotlib inline"
   ]
  },
  {
   "cell_type": "code",
   "execution_count": 57,
   "metadata": {},
   "outputs": [
    {
     "data": {
      "text/html": [
       "<div>\n",
       "<style scoped>\n",
       "    .dataframe tbody tr th:only-of-type {\n",
       "        vertical-align: middle;\n",
       "    }\n",
       "\n",
       "    .dataframe tbody tr th {\n",
       "        vertical-align: top;\n",
       "    }\n",
       "\n",
       "    .dataframe thead th {\n",
       "        text-align: right;\n",
       "    }\n",
       "</style>\n",
       "<table border=\"1\" class=\"dataframe\">\n",
       "  <thead>\n",
       "    <tr style=\"text-align: right;\">\n",
       "      <th></th>\n",
       "      <th>url</th>\n",
       "      <th>wine_points</th>\n",
       "      <th>wine_name</th>\n",
       "      <th>wine_desc</th>\n",
       "      <th>taster</th>\n",
       "      <th>price</th>\n",
       "      <th>designation</th>\n",
       "      <th>variety</th>\n",
       "      <th>appellation</th>\n",
       "      <th>winery</th>\n",
       "      <th>alcohol</th>\n",
       "      <th>bottle size</th>\n",
       "      <th>category</th>\n",
       "      <th>importer</th>\n",
       "      <th>date published</th>\n",
       "      <th>user avg rating</th>\n",
       "      <th>year_produced</th>\n",
       "      <th>country</th>\n",
       "    </tr>\n",
       "  </thead>\n",
       "  <tbody>\n",
       "    <tr>\n",
       "      <th>0</th>\n",
       "      <td>https://www.winemag.com/buying-guide/artadi-20...</td>\n",
       "      <td>90.0</td>\n",
       "      <td>Artadi 2011 Viñas de Gain  (Rioja)</td>\n",
       "      <td>Inky, minerally aromas of blackberry, black pl...</td>\n",
       "      <td>Michael Schachner</td>\n",
       "      <td>25.0</td>\n",
       "      <td>Viñas de Gain</td>\n",
       "      <td>Tempranillo</td>\n",
       "      <td>Rioja, Northern Spain, Spain</td>\n",
       "      <td>Artadi</td>\n",
       "      <td>14.5</td>\n",
       "      <td>750</td>\n",
       "      <td>Red</td>\n",
       "      <td>Folio Fine Wine Partners</td>\n",
       "      <td>12/1/2014</td>\n",
       "      <td>Not rated yet [Add Your Review]</td>\n",
       "      <td>2011.0</td>\n",
       "      <td>Spain</td>\n",
       "    </tr>\n",
       "    <tr>\n",
       "      <th>1</th>\n",
       "      <td>https://www.winemag.com/buying-guide/adelsheim...</td>\n",
       "      <td>90.0</td>\n",
       "      <td>Adelsheim 2012 Stoller Vineyard Chardonnay (Du...</td>\n",
       "      <td>A tiny production wine, this is rich, tart and...</td>\n",
       "      <td>Paul Gregutt</td>\n",
       "      <td>65.0</td>\n",
       "      <td>Stoller Vineyard</td>\n",
       "      <td>Chardonnay</td>\n",
       "      <td>Dundee Hills, Willamette Valley, Oregon, US</td>\n",
       "      <td>Adelsheim</td>\n",
       "      <td>13.5</td>\n",
       "      <td>750</td>\n",
       "      <td>White</td>\n",
       "      <td>NaN</td>\n",
       "      <td>12/1/2014</td>\n",
       "      <td>Not rated yet [Add Your Review]</td>\n",
       "      <td>2012.0</td>\n",
       "      <td>US</td>\n",
       "    </tr>\n",
       "  </tbody>\n",
       "</table>\n",
       "</div>"
      ],
      "text/plain": [
       "                                                 url  wine_points  \\\n",
       "0  https://www.winemag.com/buying-guide/artadi-20...         90.0   \n",
       "1  https://www.winemag.com/buying-guide/adelsheim...         90.0   \n",
       "\n",
       "                                           wine_name  \\\n",
       "0                 Artadi 2011 Viñas de Gain  (Rioja)   \n",
       "1  Adelsheim 2012 Stoller Vineyard Chardonnay (Du...   \n",
       "\n",
       "                                           wine_desc             taster  \\\n",
       "0  Inky, minerally aromas of blackberry, black pl...  Michael Schachner   \n",
       "1  A tiny production wine, this is rich, tart and...       Paul Gregutt   \n",
       "\n",
       "   price       designation      variety  \\\n",
       "0   25.0     Viñas de Gain  Tempranillo   \n",
       "1   65.0  Stoller Vineyard   Chardonnay   \n",
       "\n",
       "                                   appellation     winery  alcohol  \\\n",
       "0                 Rioja, Northern Spain, Spain     Artadi     14.5   \n",
       "1  Dundee Hills, Willamette Valley, Oregon, US  Adelsheim     13.5   \n",
       "\n",
       "   bottle size category                  importer date published  \\\n",
       "0          750      Red  Folio Fine Wine Partners      12/1/2014   \n",
       "1          750    White                       NaN      12/1/2014   \n",
       "\n",
       "                   user avg rating  year_produced country  \n",
       "0  Not rated yet [Add Your Review]         2011.0   Spain  \n",
       "1  Not rated yet [Add Your Review]         2012.0      US  "
      ]
     },
     "execution_count": 57,
     "metadata": {},
     "output_type": "execute_result"
    }
   ],
   "source": [
    "df = pd.read_csv(\"wine-reviews.csv\")\n",
    "\n",
    "df['price'] = df.price.str.extract(\"(\\d+)\", expand=False).dropna().astype(int)\n",
    "df['year_produced'] = df.wine_name.str.extract(\"(\\d\\d\\d\\d)\", expand=False).dropna().astype(int)\n",
    "df['alcohol'] = df.alcohol.str.replace(\"%\", \"\").dropna().astype(float)\n",
    "df['country'] = df.appellation.str.split(\", \").str.get(-1)\n",
    "df['user avg rating'].str.split(\" \").str.get(0).replace(\"Not\", np.nan).value_counts()\n",
    "df['bottle size'] = df['bottle size'].str.replace(\" \",\"\") \\\n",
    "                                     .str.replace(\"ml\", \"\", case=False) \\\n",
    "                                     .str.replace(\"l\",\"000\", case=False) \\\n",
    "                                     .str.replace(\".50\", \"5\", regex=False) \\\n",
    "                                     .astype(int)\n",
    "df.head(2)"
   ]
  },
  {
   "cell_type": "code",
   "execution_count": 67,
   "metadata": {},
   "outputs": [],
   "source": [
    "df = df[df.alcohol < 25]"
   ]
  },
  {
   "cell_type": "code",
   "execution_count": 70,
   "metadata": {},
   "outputs": [],
   "source": [
    "df = df[df.year_produced > 1960]"
   ]
  },
  {
   "cell_type": "markdown",
   "metadata": {},
   "source": [
    "## Filtering out dirty data\n",
    "\n",
    "Now that you've extracted some columns and converted others to numbers, you probably want to clean clean clean any thing you're using in your analysis. There are some 95% wines in there which I don't think are exactly real, and you probably don't care about wines supposedly made in 1070AD."
   ]
  },
  {
   "cell_type": "code",
   "execution_count": null,
   "metadata": {},
   "outputs": [],
   "source": []
  },
  {
   "cell_type": "markdown",
   "metadata": {},
   "source": [
    "## What might be interesting in this dataset?\n",
    "\n",
    "Maybe start out playing around _without_ machine learning. Here are some thoughts to get you started:\n",
    "\n",
    "* I've heard that since the 90's wine has gone through [Parkerization](https://www.estatewinebrokers.com/blog/the-parkerization-of-wine-in-the-1990s-and-beyond/), an increase in production of high-alcohol, fruity red wines thanks to the influence of wine critic Robert Parker.\n",
    "* Red and white wines taste different, obviously, but people always use [goofy words to describe them](https://winefolly.com/tutorial/40-wine-descriptions/)\n",
    "* Once upon a time in 1976 [California wines proved themselves against France](https://en.wikipedia.org/wiki/Judgment_of_Paris_(wine)) and France got very angry about it"
   ]
  },
  {
   "cell_type": "code",
   "execution_count": 73,
   "metadata": {},
   "outputs": [
    {
     "data": {
      "text/plain": [
       "<seaborn.axisgrid.JointGrid at 0x1286c0e80>"
      ]
     },
     "execution_count": 73,
     "metadata": {},
     "output_type": "execute_result"
    },
    {
     "data": {
      "image/png": "[encoded data removed]",
      "text/plain": [
       "<Figure size 432x432 with 3 Axes>"
      ]
     },
     "metadata": {
      "needs_background": "light"
     },
     "output_type": "display_data"
    }
   ],
   "source": [
    "sns.jointplot(data=df, x='year_produced', y='alcohol', kind=\"reg\")"
   ]
  },
  {
   "cell_type": "code",
   "execution_count": null,
   "metadata": {},
   "outputs": [],
   "source": []
  },
  {
   "cell_type": "markdown",
   "metadata": {},
   "source": [
    "## But machine learning?\n",
    "\n",
    "Well, you can usually break machine learning down into a few different things. These aren't necessarily perfect ways of categorizing things, but eh, close enough.\n",
    "\n",
    "* **Predicting a number**\n",
    "    - Linear regression\n",
    "    - How does a change in unemployment translate into a change in life expectancy?\n",
    "* **Predicting a category** (aka classification)\n",
    "    - Lots of algos options: logistic regression, random forest, etc\n",
    "    - For example, predicting cuisines based on ingredients\n",
    "* **Seeing what influences a numeric outcome**\n",
    "    - Linear regression since the output is a number\n",
    "    - For example, minority and poverty status on test scores \n",
    "* **Seeing what influences a categorical outcome**\n",
    "    - Logistic regression since the output is a category\n",
    "    - Race and car speed for if you get a waring vs ticket\n",
    "    - Wet/dry pavement and car weight if you survive or not in a car crash)\n",
    "\n",
    "We have numbers, we have categories, we have all sorts of stuff. **What are some ways we can mash them together and use machine learning?**\n",
    "\n",
    "### Brainstorm some ideas\n",
    "\n",
    "Use the categories above to try to come up with some ideas. Be sure to scroll up where I break down categories vs numbers vs text!\n",
    "\n",
    "**I'll give you one idea for free:** if you don't have any ideas, start off by creating a classifier that determines whether a wine is white or red based on the wine's description."
   ]
  },
  {
   "cell_type": "code",
   "execution_count": null,
   "metadata": {},
   "outputs": [],
   "source": []
  },
  {
   "cell_type": "markdown",
   "metadata": {},
   "source": [
    "You can also go to https://library.columbia.edu and see if you can find some academic papers about wine. I'm sure they'll inspire you! (and they might even have some ML ideas in them you can steal, too)"
   ]
  },
  {
   "cell_type": "markdown",
   "metadata": {},
   "source": [
    "# Implement 2 of your machine learning ideas"
   ]
  },
  {
   "cell_type": "code",
   "execution_count": null,
   "metadata": {},
   "outputs": [],
   "source": []
  },
  {
   "cell_type": "code",
   "execution_count": null,
   "metadata": {},
   "outputs": [],
   "source": []
  },
  {
   "cell_type": "code",
   "execution_count": null,
   "metadata": {},
   "outputs": [],
   "source": []
  },
  {
   "cell_type": "code",
   "execution_count": null,
   "metadata": {},
   "outputs": [],
   "source": []
  },
  {
   "cell_type": "code",
   "execution_count": null,
   "metadata": {},
   "outputs": [],
   "source": []
  },
  {
   "cell_type": "code",
   "execution_count": null,
   "metadata": {},
   "outputs": [],
   "source": []
  }
 ],
 "metadata": {
  "kernelspec": {
   "display_name": "Python 3",
   "language": "python",
   "name": "python3"
  },
  "language_info": {
   "codemirror_mode": {
    "name": "ipython",
    "version": 3
   },
   "file_extension": ".py",
   "mimetype": "text/x-python",
   "name": "python",
   "nbconvert_exporter": "python",
   "pygments_lexer": "ipython3",
   "version": "3.6.8"
  }
 },
 "nbformat": 4,
 "nbformat_minor": 2
}

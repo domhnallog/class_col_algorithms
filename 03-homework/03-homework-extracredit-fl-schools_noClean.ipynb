{
 "cells": [
  {
   "cell_type": "markdown",
   "metadata": {},
   "source": [
    "# The Tampa Bay Times and school performance\n",
    "\n",
    "**Story:** [The story](http://www.tampabay.com/projects/2015/investigations/pinellas-failure-factories/), and [a critique](https://rogueedu.blogspot.com/2015/08/fcat-reading-scores-only-two-of-five.html)\n",
    "\n",
    "**Author:** A million people, but I believe Nathaniel Lash did the data analysis\n",
    "\n",
    "**Topics:** Linear Regression, Residuals\n",
    "\n",
    "**Datasets**\n",
    "\n",
    "* **0066897-gr04_rsch_2014.xls:** 4th grader pass rates for standardized tests, from Florida Dept of Education\n",
    "* **FRL-1314-School-Web-Survey-3-Final.xls:** Free and reduced price lunch data, from Florida Dept of Education\n",
    "* **MembershipSchoolRaceGender1415.xls:** School population by gender, from Florida Dept of Education\n",
    "\n",
    "# What's the story?\n",
    "\n",
    "We're trying to see what kind of effect race and poverty have on school test score data. Their actual story doesn't include a regression, but they used one behind the scenes for research."
   ]
  },
  {
   "cell_type": "markdown",
   "metadata": {},
   "source": [
    "## Imports\n",
    "\n",
    "You'll want pandas and seaborn. You'll want want to set pandas to display a lot of columns and rows at a time."
   ]
  },
  {
   "cell_type": "markdown",
   "metadata": {},
   "source": [
    "# The Tampa Bay Times and school performance\n",
    "\n",
    "**Story:** [The story](http://www.tampabay.com/projects/2015/investigations/pinellas-failure-factories/), and [a critique](https://rogueedu.blogspot.com/2015/08/fcat-reading-scores-only-two-of-five.html)\n",
    "\n",
    "**Author:** A million people, but I believe Nathaniel Lash did the data analysis\n",
    "\n",
    "**Topics:** Linear Regression, Residuals\n",
    "\n",
    "**Datasets**\n",
    "\n",
    "* **data-cleaned-merged.csv:** The following three files, cleaned and merged\n",
    "    - **0066897-gr04_rsch_2014.xls:** 4th grader pass rates for standardized tests, from Florida Dept of Education\n",
    "    - **FRL-1314-School-Web-Survey-3-Final.xls:** Free and reduced price lunch data, from Florida Dept of Education\n",
    "    - **MembershipSchoolRaceGender1415.xls:** School population by gender, from Florida Dept of Education\n",
    "\n",
    "# What's the story?\n",
    "\n",
    "We're trying to see what kind of effect race and poverty have on school test score data. Their actual story doesn't include a regression, but they used one behind the scenes for research."
   ]
  },
  {
   "cell_type": "code",
   "execution_count": null,
   "metadata": {},
   "outputs": [],
   "source": []
  },
  {
   "cell_type": "markdown",
   "metadata": {},
   "source": [
    "# Reading in our data\n",
    "\n",
    "Read in the dataset, being sure to read in the district and school number as strings in case we need to merge on anything later. If pandas gets its way, it would read them in as integers and turn `0001` into `1`. This dataset includes school information, as well as\n",
    "\n",
    "* The percentage of students who passed their 4th grade standardized reading test\n",
    "* The percentage of students receiving free or reduced price lunch, as a proxy for poverty\n",
    "* The percentage of students that are Black/African-American"
   ]
  },
  {
   "cell_type": "code",
   "execution_count": null,
   "metadata": {},
   "outputs": [],
   "source": []
  },
  {
   "cell_type": "markdown",
   "metadata": {},
   "source": [
    "### Converting to percentages\n",
    "\n",
    "It's really easy to get mixed up later if we don't have our percentage columns as actual percents. Multiply any percentages that go 0-1 by 100 to turn them into 0-100 instead.\n",
    "\n",
    "* **Tip:** Make sure your numbers are 1-100 after you multiply!"
   ]
  },
  {
   "cell_type": "code",
   "execution_count": null,
   "metadata": {},
   "outputs": [],
   "source": []
  },
  {
   "cell_type": "markdown",
   "metadata": {},
   "source": [
    "# Graphing our data"
   ]
  },
  {
   "cell_type": "markdown",
   "metadata": {},
   "source": [
    "Use seaborn's `regplot` to plot the relationship between free/reduced lunch and percent passing, and the same with percent black.\n",
    "\n",
    "* **Tip:** You can use `scatter_kws={'alpha':0.3}` to see things a bit more nicely"
   ]
  },
  {
   "cell_type": "code",
   "execution_count": null,
   "metadata": {},
   "outputs": [],
   "source": []
  },
  {
   "cell_type": "code",
   "execution_count": null,
   "metadata": {},
   "outputs": [],
   "source": []
  },
  {
   "cell_type": "markdown",
   "metadata": {},
   "source": [
    "# Linear regression\n",
    "\n",
    "Now let's be a little more exact: run a linear regression that takes into account both percent black and percent free or reduced.\n",
    "\n",
    "* **Tip:** Use `.dropna()` to remove missing data\n",
    "* **Tip:** Remember to use `sm.add_constant`!"
   ]
  },
  {
   "cell_type": "code",
   "execution_count": null,
   "metadata": {},
   "outputs": [],
   "source": []
  },
  {
   "cell_type": "code",
   "execution_count": null,
   "metadata": {},
   "outputs": [],
   "source": []
  },
  {
   "cell_type": "markdown",
   "metadata": {},
   "source": [
    "## Describe the relationship coefficient using \"real\" words\n",
    "\n",
    "For example, \"For every X change, we get Y change\""
   ]
  },
  {
   "cell_type": "code",
   "execution_count": null,
   "metadata": {},
   "outputs": [],
   "source": []
  },
  {
   "cell_type": "markdown",
   "metadata": {},
   "source": [
    "# Overperformers and underperformers\n",
    "\n",
    "The point of the regression is to predict the percent passing, right? We can use `result.predict()` to get the predicted passing rate for each school. Try to run it below: "
   ]
  },
  {
   "cell_type": "code",
   "execution_count": null,
   "metadata": {},
   "outputs": [],
   "source": []
  },
  {
   "cell_type": "markdown",
   "metadata": {},
   "source": [
    "Now, let's **save that value into a new column**, we can call it `predicted_passing`."
   ]
  },
  {
   "cell_type": "code",
   "execution_count": null,
   "metadata": {},
   "outputs": [],
   "source": []
  },
  {
   "cell_type": "markdown",
   "metadata": {},
   "source": [
    "### Confirm that Charles W. Duval had a predicted passing rate of 32."
   ]
  },
  {
   "cell_type": "code",
   "execution_count": null,
   "metadata": {},
   "outputs": [],
   "source": []
  },
  {
   "cell_type": "markdown",
   "metadata": {},
   "source": [
    "## Now let's find the difference between the predicted passing rate and the actual passing rate\n",
    "\n",
    "If we're being stats-y, this is called **the residual**. Save it into a new column called.... `residual`.\n",
    "\n",
    "* **Tip:** Think real hard about which direction you should be subtracting in."
   ]
  },
  {
   "cell_type": "code",
   "execution_count": null,
   "metadata": {},
   "outputs": [],
   "source": []
  },
  {
   "cell_type": "markdown",
   "metadata": {},
   "source": [
    "### Find the 10 schools that did much worse than predicted\n",
    "\n",
    "* PRINCETON HOUSE CHARTER should be the worst, with PEPIN ACADEMIES below that"
   ]
  },
  {
   "cell_type": "code",
   "execution_count": null,
   "metadata": {},
   "outputs": [],
   "source": []
  },
  {
   "cell_type": "markdown",
   "metadata": {},
   "source": [
    "### Find the top 10 schools that did better than predicted\n",
    "\n",
    "* PARKWAY MIDDLE SCHOOL should be the best, and PATHWAYS should be second"
   ]
  },
  {
   "cell_type": "code",
   "execution_count": null,
   "metadata": {},
   "outputs": [],
   "source": []
  },
  {
   "cell_type": "markdown",
   "metadata": {},
   "source": [
    "# What problems might our analysis have?\n",
    "\n",
    "We brought in two things we thought would do a good job covering socioeconomics and demographic patterns. What else might we be missing?\n",
    "\n",
    "* **Tip:** Pay attention to the names of the schools"
   ]
  },
  {
   "cell_type": "code",
   "execution_count": null,
   "metadata": {},
   "outputs": [],
   "source": []
  }
 ],
 "metadata": {
  "kernelspec": {
   "display_name": "Python 3",
   "language": "python",
   "name": "python3"
  },
  "language_info": {
   "codemirror_mode": {
    "name": "ipython",
    "version": 3
   },
   "file_extension": ".py",
   "mimetype": "text/x-python",
   "name": "python",
   "nbconvert_exporter": "python",
   "pygments_lexer": "ipython3",
   "version": "3.6.7"
  }
 },
 "nbformat": 4,
 "nbformat_minor": 2
}

{
 "cells": [
  {
   "cell_type": "markdown",
   "metadata": {},
   "source": [
    "# The Tampa Bay Times and school performance\n",
    "\n",
    "**Story:** [The story](http://www.tampabay.com/projects/2015/investigations/pinellas-failure-factories/), and [a critique](https://rogueedu.blogspot.com/2015/08/fcat-reading-scores-only-two-of-five.html)\n",
    "\n",
    "**Author:** A million people, but I believe Nathaniel Lash did the data analysis\n",
    "\n",
    "**Topics:** Linear Regression, Residuals\n",
    "\n",
    "**Datasets**\n",
    "\n",
    "* **0066897-gr04_rsch_2014.xls:** 4th grader pass rates for standardized tests, from Florida Dept of Education\n",
    "* **FRL-1314-School-Web-Survey-3-Final.xls:** Free and reduced price lunch data, from Florida Dept of Education\n",
    "* **MembershipSchoolRaceGender1415.xls:** School population by gender, from Florida Dept of Education\n",
    "\n",
    "# What's the story?\n",
    "\n",
    "We're trying to see what kind of effect race and poverty have on school test score data. Their actual story doesn't include a regression, but they used one behind the scenes for research."
   ]
  },
  {
   "cell_type": "markdown",
   "metadata": {},
   "source": [
    "## Imports\n",
    "\n",
    "You'll want pandas and seaborn. You'll want want to set pandas to display a lot of columns and rows at a time."
   ]
  },
  {
   "cell_type": "code",
   "execution_count": null,
   "metadata": {},
   "outputs": [],
   "source": []
  },
  {
   "cell_type": "markdown",
   "metadata": {},
   "source": [
    "# Reading in our test scores data\n",
    "\n",
    "While we have a lot of options for what tests we can use, let's stick with reading scores.\n",
    "\n",
    "* **Tip:** There's a lot of junk up at the file, so you'll want to skip a few of those rows.\n",
    "* **Tip:** Ouch, even if we skip rows there are still a couple bad ones - the \"Number of possible points\" and \"STATE TOTALS\" rows. Get rid of them, too. You can drop them after you've read the data in, if you'd like.\n",
    "* **Tip:** Sometimes the school number starts with `0`, but pandas will drop it if it thinks the column is an integer. Tell `.read_csv` to read the column in as a string, instead."
   ]
  },
  {
   "cell_type": "code",
   "execution_count": null,
   "metadata": {},
   "outputs": [],
   "source": []
  },
  {
   "cell_type": "code",
   "execution_count": null,
   "metadata": {},
   "outputs": [],
   "source": []
  },
  {
   "cell_type": "markdown",
   "metadata": {},
   "source": [
    "### Getting an average\n",
    "\n",
    "Try to get the median of the `Percentage Passing (Achievement Levels 3 and Above)` column. Oof, it doesn't work! Take a look at your data and see if there's something that needs to be done with `na_values`."
   ]
  },
  {
   "cell_type": "code",
   "execution_count": null,
   "metadata": {},
   "outputs": [],
   "source": []
  },
  {
   "cell_type": "markdown",
   "metadata": {},
   "source": [
    "### Confirm that you have 2207 rows and 17 columns, and that the first school is CHARLES W. DUVAL ELEM SCHOOL"
   ]
  },
  {
   "cell_type": "code",
   "execution_count": null,
   "metadata": {},
   "outputs": [],
   "source": []
  },
  {
   "cell_type": "markdown",
   "metadata": {},
   "source": [
    "# Read in lunch data\n",
    "\n",
    "We'll be using free lunch as a proxy for poverty.\n",
    "\n",
    "* **Tip:** You'll need to specify the sheet you're interested in\n",
    "* **Tip:** Again, the top of the file is kind of messy\n",
    "* **Tip:** It might be easiest to just specify the names for the columns yourself"
   ]
  },
  {
   "cell_type": "code",
   "execution_count": null,
   "metadata": {},
   "outputs": [],
   "source": []
  },
  {
   "cell_type": "markdown",
   "metadata": {},
   "source": [
    "## Calculating a column\n",
    "\n",
    "Let's add in a new column that is the percent of students who are eligible for free or reduced-price lunch.\n",
    "\n",
    "* Free, reduced price, provision 2, and CEP direct cert are all kinds of reduced lunch.\n",
    "* Total members it the total number of students at the school.\n",
    "* **Tip:** If you get an error, read your error message. Check the datatype of your columns, and take a look at your dataset. Maybe you need to add an `na_values` to your `read_excel` to deal with something in there?"
   ]
  },
  {
   "cell_type": "code",
   "execution_count": null,
   "metadata": {},
   "outputs": [],
   "source": []
  },
  {
   "cell_type": "markdown",
   "metadata": {},
   "source": [
    "## Fixing district and school numbers\n",
    "\n",
    "Even if you specify `dtype` when you're reading in this data, it still drops the leading `0`s that you see in Excel for the district and school numbers. Use `.str.pad` to add them back in.\n",
    "\n",
    "* **Tip:** School numbers should be 4 characters long, district number should be 2 characters."
   ]
  },
  {
   "cell_type": "code",
   "execution_count": null,
   "metadata": {},
   "outputs": [],
   "source": []
  },
  {
   "cell_type": "markdown",
   "metadata": {},
   "source": [
    "### Confirm you have 3987 rows and 10 columns"
   ]
  },
  {
   "cell_type": "code",
   "execution_count": null,
   "metadata": {},
   "outputs": [],
   "source": []
  },
  {
   "cell_type": "markdown",
   "metadata": {},
   "source": [
    "# Read in race data\n",
    "\n",
    "* **Tip:** Beware! The file uses a space `' '` instead of an empty string `''` when having missing data, so you might want to let `pd.read_excel` know about that special kind of missing data."
   ]
  },
  {
   "cell_type": "code",
   "execution_count": null,
   "metadata": {},
   "outputs": [],
   "source": []
  },
  {
   "cell_type": "markdown",
   "metadata": {},
   "source": [
    "## These columns are stupid\n",
    "\n",
    "If you look at the column names with `df.columns`, you'll see the they have extra spacs after them. This is terrible! \n",
    "\n",
    "You can use something like `race.columns = race.columns.str.strip()` to fix that, then columns will behave properly."
   ]
  },
  {
   "cell_type": "code",
   "execution_count": null,
   "metadata": {},
   "outputs": [],
   "source": []
  },
  {
   "cell_type": "markdown",
   "metadata": {},
   "source": [
    "## Cleaning up race counts\n",
    "\n",
    "When a school has no students of a certain race, it just doesn't put anything in the column. This means a lot of `NaN` values that should be zeros! Fill in those `NaN` values with 0."
   ]
  },
  {
   "cell_type": "code",
   "execution_count": null,
   "metadata": {},
   "outputs": [],
   "source": []
  },
  {
   "cell_type": "markdown",
   "metadata": {},
   "source": [
    "## Finding the totals\n",
    "\n",
    "One row for each school is the `TOTAL` row, that adds up all the other rows and provides an aggregate. Instead of adding ourselves, let's try to use this row.\n",
    "\n",
    "First, try to filter to only look at the total row for each school."
   ]
  },
  {
   "cell_type": "code",
   "execution_count": null,
   "metadata": {},
   "outputs": [],
   "source": []
  },
  {
   "cell_type": "markdown",
   "metadata": {},
   "source": [
    "It doesn't list the school's name!\n",
    "\n",
    "There are a lot of ways to fix this, but my favorite is to replace all of the instances of `\"SCHOOL TOTAL\"` with `NaN`, then have pandas copy down the value from above it. You can use this code:\n",
    "\n",
    "```python\n",
    "race.School = race.School.replace(\"SCHOOL TOTALS\", np.nan).fillna(method='ffill')\n",
    "```"
   ]
  },
  {
   "cell_type": "code",
   "execution_count": null,
   "metadata": {},
   "outputs": [],
   "source": []
  },
  {
   "cell_type": "markdown",
   "metadata": {},
   "source": [
    "Now let's try again to see the school totals."
   ]
  },
  {
   "cell_type": "code",
   "execution_count": null,
   "metadata": {},
   "outputs": [],
   "source": []
  },
  {
   "cell_type": "markdown",
   "metadata": {},
   "source": [
    "### Create a new dataframe that is only the 'TOTAL' rows, and confirm it is 3992 rows and 15 columns"
   ]
  },
  {
   "cell_type": "code",
   "execution_count": null,
   "metadata": {},
   "outputs": [],
   "source": []
  },
  {
   "cell_type": "code",
   "execution_count": null,
   "metadata": {},
   "outputs": [],
   "source": []
  },
  {
   "cell_type": "markdown",
   "metadata": {},
   "source": [
    "### Adding in percentages\n",
    "\n",
    "Create a new column called `pct_black` that is the percentage of black students.\n",
    "\n",
    "* **Tip:** If this isn't working, think about how you fixed a similar problem with lunch data up above\n",
    "\n",
    "Typically you'd take a larger view of race issues, but in this case we're just trying to reproduce what was done by others."
   ]
  },
  {
   "cell_type": "code",
   "execution_count": null,
   "metadata": {},
   "outputs": [],
   "source": []
  },
  {
   "cell_type": "markdown",
   "metadata": {},
   "source": [
    "### Confirm that your dataframe has 3992 rows and 16 columns"
   ]
  },
  {
   "cell_type": "code",
   "execution_count": null,
   "metadata": {},
   "outputs": [],
   "source": []
  },
  {
   "cell_type": "markdown",
   "metadata": {},
   "source": [
    "# Merging our datasets\n",
    "\n",
    "Let's take a look at the first couple rows of our three datasets:\n",
    "\n",
    "* Our reading score data\n",
    "* Our free lunch data\n",
    "* Our race data"
   ]
  },
  {
   "cell_type": "code",
   "execution_count": null,
   "metadata": {},
   "outputs": [],
   "source": []
  },
  {
   "cell_type": "code",
   "execution_count": null,
   "metadata": {},
   "outputs": [],
   "source": []
  },
  {
   "cell_type": "code",
   "execution_count": null,
   "metadata": {},
   "outputs": [],
   "source": []
  },
  {
   "cell_type": "markdown",
   "metadata": {},
   "source": [
    "## Doing our merging\n",
    "\n",
    "We need to merge them, but **school numbers repeat in difference districts.** You'll need to join on district AND school number to successfully perform each merge."
   ]
  },
  {
   "cell_type": "code",
   "execution_count": null,
   "metadata": {},
   "outputs": [],
   "source": []
  },
  {
   "cell_type": "code",
   "execution_count": null,
   "metadata": {},
   "outputs": [],
   "source": []
  },
  {
   "cell_type": "markdown",
   "metadata": {},
   "source": [
    " ### Confirm that you have around 2189 schools and 43 columns\n",
    "\n",
    "If you have a lot more, it's probably because you merged on your original race dataframe instead of just the totals."
   ]
  },
  {
   "cell_type": "code",
   "execution_count": null,
   "metadata": {},
   "outputs": [],
   "source": []
  },
  {
   "cell_type": "markdown",
   "metadata": {},
   "source": [
    "# Cleaning up our columns\n",
    "\n",
    "We're interested in:\n",
    "\n",
    "* District number\n",
    "* School number\n",
    "* Percent passing\n",
    "* Percent free or reduced lunch\n",
    "* Percent Black\n",
    "\n",
    "Let's just select only those columns."
   ]
  },
  {
   "cell_type": "code",
   "execution_count": null,
   "metadata": {},
   "outputs": [],
   "source": []
  },
  {
   "cell_type": "markdown",
   "metadata": {},
   "source": [
    "While you're at it, you should probably rename `Percentage Passing (Achievement Levels 3 and Above)` to `pct_passing` because it's so so long."
   ]
  },
  {
   "cell_type": "code",
   "execution_count": null,
   "metadata": {},
   "outputs": [],
   "source": []
  },
  {
   "cell_type": "markdown",
   "metadata": {},
   "source": [
    "### Converting to percentages\n",
    "\n",
    "It's really easy to get mixed up later if we don't have our percentage columns as actual percents. Multiply any percentages that go 0-1 by 100 to turn them into 0-100 instead.\n",
    "\n",
    "* **Tip:** Make sure your numbers are 1-100 after you multiply!"
   ]
  },
  {
   "cell_type": "code",
   "execution_count": null,
   "metadata": {},
   "outputs": [],
   "source": []
  },
  {
   "cell_type": "markdown",
   "metadata": {},
   "source": [
    "# Graphing our data"
   ]
  },
  {
   "cell_type": "markdown",
   "metadata": {},
   "source": [
    "Use seaborn's `regplot` to plot the relationship between free/reduced lunch and percent passing, and the same with percent black.\n",
    "\n",
    "* **Tip:** You can use `scatter_kws={'alpha':0.3}` to see things a bit more nicely"
   ]
  },
  {
   "cell_type": "code",
   "execution_count": null,
   "metadata": {},
   "outputs": [],
   "source": []
  },
  {
   "cell_type": "code",
   "execution_count": null,
   "metadata": {},
   "outputs": [],
   "source": []
  },
  {
   "cell_type": "markdown",
   "metadata": {},
   "source": [
    "# Linear regression\n",
    "\n",
    "Now let's be a little more exact: run a linear regression that takes into account both percent black and percent free or reduced.\n",
    "\n",
    "* **Tip:** Use `.dropna()` to remove missing data\n",
    "* **Tip:** Remember to use `sm.add_constant`!"
   ]
  },
  {
   "cell_type": "code",
   "execution_count": null,
   "metadata": {},
   "outputs": [],
   "source": []
  },
  {
   "cell_type": "code",
   "execution_count": null,
   "metadata": {},
   "outputs": [],
   "source": []
  },
  {
   "cell_type": "markdown",
   "metadata": {},
   "source": [
    "## Describe the relationship coefficient using \"real\" words\n",
    "\n",
    "For example, \"For every X change, we get Y change\""
   ]
  },
  {
   "cell_type": "code",
   "execution_count": null,
   "metadata": {},
   "outputs": [],
   "source": []
  },
  {
   "cell_type": "markdown",
   "metadata": {},
   "source": [
    "# Overperformers and underperformers\n",
    "\n",
    "The point of the regression is to predict the percent passing, right? We can use `result.predict()` to get the predicted passing rate for each school. Try to run it below: "
   ]
  },
  {
   "cell_type": "code",
   "execution_count": null,
   "metadata": {},
   "outputs": [],
   "source": []
  },
  {
   "cell_type": "markdown",
   "metadata": {},
   "source": [
    "Now, let's **save that value into a new column**, we can call it `predicted_passing`."
   ]
  },
  {
   "cell_type": "code",
   "execution_count": null,
   "metadata": {},
   "outputs": [],
   "source": []
  },
  {
   "cell_type": "markdown",
   "metadata": {},
   "source": [
    "### Confirm that Charles W. Duval had a predicted passing rate of 32."
   ]
  },
  {
   "cell_type": "code",
   "execution_count": null,
   "metadata": {},
   "outputs": [],
   "source": []
  },
  {
   "cell_type": "markdown",
   "metadata": {},
   "source": [
    "## Now let's find the difference between the predicted passing rate and the actual passing rate\n",
    "\n",
    "If we're being stats-y, this is called **the residual**. Save it into a new column called.... `residual`.\n",
    "\n",
    "* **Tip:** Think real hard about which direction you should be subtracting in."
   ]
  },
  {
   "cell_type": "code",
   "execution_count": null,
   "metadata": {},
   "outputs": [],
   "source": []
  },
  {
   "cell_type": "markdown",
   "metadata": {},
   "source": [
    "### Find the 10 schools that did much worse than predicted\n",
    "\n",
    "* PRINCETON HOUSE CHARTER should be the worst, with PEPIN ACADEMIES below that"
   ]
  },
  {
   "cell_type": "code",
   "execution_count": null,
   "metadata": {},
   "outputs": [],
   "source": []
  },
  {
   "cell_type": "markdown",
   "metadata": {},
   "source": [
    "### Find the top 10 schools that did better than predicted\n",
    "\n",
    "* PARKWAY MIDDLE SCHOOL should be the best, and PATHWAYS should be second"
   ]
  },
  {
   "cell_type": "code",
   "execution_count": null,
   "metadata": {},
   "outputs": [],
   "source": []
  },
  {
   "cell_type": "markdown",
   "metadata": {},
   "source": [
    "# What problems might our analysis have?\n",
    "\n",
    "We brought in two things we thought would do a good job covering socioeconomics and demographic patterns. What else might we be missing?\n",
    "\n",
    "* **Tip:** Pay attention to the names of the schools"
   ]
  },
  {
   "cell_type": "code",
   "execution_count": null,
   "metadata": {},
   "outputs": [],
   "source": []
  }
 ],
 "metadata": {
  "kernelspec": {
   "display_name": "Python 3",
   "language": "python",
   "name": "python3"
  },
  "language_info": {
   "codemirror_mode": {
    "name": "ipython",
    "version": 3
   },
   "file_extension": ".py",
   "mimetype": "text/x-python",
   "name": "python",
   "nbconvert_exporter": "python",
   "pygments_lexer": "ipython3",
   "version": "3.6.7"
  }
 },
 "nbformat": 4,
 "nbformat_minor": 2
}

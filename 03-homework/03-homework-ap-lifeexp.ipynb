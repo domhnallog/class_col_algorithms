{
 "cells": [
  {
   "cell_type": "markdown",
   "metadata": {},
   "source": [
    "# The Associated Press and Life Expectancy\n",
    "\n",
    "**Story:** [AP analysis: Unemployment, income affect life expectancy](https://www.apnews.com/66ac44186b6249709501f07a7eab36da)\n",
    "\n",
    "**Author:** Nicky Forster, Associated Press\n",
    "\n",
    "**Topics:** Census Data, Linear Regression\n",
    "\n",
    "**Datasets**\n",
    "\n",
    "* **R12221544_SL140.csv:** ACS 2015 5-year, tract level, from [Social Explorer](https://www.socialexplorer.com)\n",
    "    - Table B23025: Employment Status\n",
    "    - **R12221544.txt** is the data dictionary\n",
    "* **R12221544_SL140.csv:** ACS 2015 5-year, tract level, from [Social Explorer](https://www.socialexplorer.com)\n",
    "    - Table B23025: Employment Status\n",
    "    - Table B06009: Educational Attainment\n",
    "    - Table B03002: Race\n",
    "    - Table B19013: Median income\n",
    "    - Table C17002: Ratio of income to poverty level\n",
    "    - **R12221544.txt** is the data dictionary\n",
    "* **US_A.CSV:** life expectancy by census tract, from [USALEEP](https://www.cdc.gov/nchs/nvss/usaleep/usaleep.html)\n",
    "    - **Record_Layout_CensusTract_Life_Expectancy.pdf** is data dictionary\n",
    "\n",
    "# What's the story?\n",
    "\n",
    "We're trying to figure out how the **life expectancy in a census tract** is related to other factors like unemployment, income, and others."
   ]
  },
  {
   "cell_type": "markdown",
   "metadata": {},
   "source": [
    "# PREPWORK BONUS!\n",
    "\n",
    "Download the data yourself from Social Explorer and USALEEP (linked above) instead of relying on the data included."
   ]
  },
  {
   "cell_type": "markdown",
   "metadata": {},
   "source": [
    "## Reading in our data\n",
    "\n",
    "### Read in `USA_A.CSV`\n",
    "\n",
    "Rename any columns with weird or not-understandable names as something more descriptive."
   ]
  },
  {
   "cell_type": "code",
   "execution_count": null,
   "metadata": {},
   "outputs": [],
   "source": []
  },
  {
   "cell_type": "markdown",
   "metadata": {},
   "source": [
    "### Open `R12221544_SL140.csv`\n",
    "\n",
    "You'll need to give an option to `pd.read_csv` to make sure it's read in successfully."
   ]
  },
  {
   "cell_type": "code",
   "execution_count": null,
   "metadata": {},
   "outputs": [],
   "source": []
  },
  {
   "cell_type": "markdown",
   "metadata": {},
   "source": [
    "#### Filter out any columns we aren't interestd in"
   ]
  },
  {
   "cell_type": "code",
   "execution_count": null,
   "metadata": {},
   "outputs": [],
   "source": []
  },
  {
   "cell_type": "markdown",
   "metadata": {},
   "source": [
    "#### Create a new column for percent unemployment\n",
    "\n",
    "We'll be using the total population in the census tract as the baseline for employment."
   ]
  },
  {
   "cell_type": "code",
   "execution_count": null,
   "metadata": {},
   "outputs": [],
   "source": []
  },
  {
   "cell_type": "markdown",
   "metadata": {},
   "source": [
    "## Merging the data\n",
    "\n",
    "Merge the dataframes together based on their census tract."
   ]
  },
  {
   "cell_type": "code",
   "execution_count": null,
   "metadata": {},
   "outputs": [],
   "source": []
  },
  {
   "cell_type": "markdown",
   "metadata": {},
   "source": [
    "## Running the regression\n",
    "\n",
    "Using the `statsmodels` package, run a linear regression to find the coefficient relating unemployment and life expectancy."
   ]
  },
  {
   "cell_type": "code",
   "execution_count": null,
   "metadata": {},
   "outputs": [],
   "source": []
  },
  {
   "cell_type": "markdown",
   "metadata": {},
   "source": [
    "Translate that into the form **\"every X percentage point change in unemployment translates to a Y change in life expectancy\"**"
   ]
  },
  {
   "cell_type": "code",
   "execution_count": null,
   "metadata": {},
   "outputs": [],
   "source": []
  },
  {
   "cell_type": "markdown",
   "metadata": {},
   "source": [
    "## Bringing more columns into the mix\n",
    "\n",
    "Only dealing with unemployment seems kind of narrow-minded, let's expand our reach a bit."
   ]
  },
  {
   "cell_type": "markdown",
   "metadata": {},
   "source": [
    "### Read in `R12221544_SL140.csv`\n",
    "\n",
    "It's also from the Census, and has many, many, many more columns available to you compared to the list dataset."
   ]
  },
  {
   "cell_type": "code",
   "execution_count": null,
   "metadata": {},
   "outputs": [],
   "source": []
  },
  {
   "cell_type": "markdown",
   "metadata": {},
   "source": [
    "Using this census data, create a new dataframe that includes the following columns:\n",
    "\n",
    "* Percent unemployed\n",
    "* Percents Black, White, and Hispanic\n",
    "* Median Income (in increments of 10,000 dollars)\n",
    "* Percent of the population with less than a high school education\n",
    "* Percent of the population between 1-1.5x the poverty line\n",
    "\n",
    "If you have to many any editorial decisions about which columns you choose or how you do your math, please explain them."
   ]
  },
  {
   "cell_type": "code",
   "execution_count": null,
   "metadata": {},
   "outputs": [],
   "source": []
  },
  {
   "cell_type": "markdown",
   "metadata": {},
   "source": [
    "### Join your datasets\n",
    "\n",
    "Combine your life expectancy dataset with this census dataset to create a new dataframe."
   ]
  },
  {
   "cell_type": "code",
   "execution_count": null,
   "metadata": {},
   "outputs": [],
   "source": []
  },
  {
   "cell_type": "markdown",
   "metadata": {},
   "source": [
    "## Running your multivariate regression\n",
    "\n",
    "Using the `statsmodels` package and this new dataframe, run a multivariate linear regression to find the coefficient relating your columns and life expectancy."
   ]
  },
  {
   "cell_type": "code",
   "execution_count": null,
   "metadata": {},
   "outputs": [],
   "source": []
  },
  {
   "cell_type": "markdown",
   "metadata": {},
   "source": [
    "Translate some of your coefficients into the form **\"every X percentage point change in unemployment translates to a Y change in life expectancy.\"** Do this with numbers that are meaningful, and in a way that is easily understandable to your reader."
   ]
  },
  {
   "cell_type": "code",
   "execution_count": null,
   "metadata": {},
   "outputs": [],
   "source": []
  }
 ],
 "metadata": {
  "kernelspec": {
   "display_name": "Python 3",
   "language": "python",
   "name": "python3"
  },
  "language_info": {
   "codemirror_mode": {
    "name": "ipython",
    "version": 3
   },
   "file_extension": ".py",
   "mimetype": "text/x-python",
   "name": "python",
   "nbconvert_exporter": "python",
   "pygments_lexer": "ipython3",
   "version": "3.6.7"
  }
 },
 "nbformat": 4,
 "nbformat_minor": 2
}

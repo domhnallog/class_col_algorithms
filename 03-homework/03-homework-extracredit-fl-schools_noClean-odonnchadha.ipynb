{
 "cells": [
  {
   "cell_type": "markdown",
   "metadata": {},
   "source": [
    "# The Tampa Bay Times and school performance\n",
    "\n",
    "**Story:** [The story](http://www.tampabay.com/projects/2015/investigations/pinellas-failure-factories/), and [a critique](https://rogueedu.blogspot.com/2015/08/fcat-reading-scores-only-two-of-five.html)\n",
    "\n",
    "**Author:** A million people, but I believe Nathaniel Lash did the data analysis\n",
    "\n",
    "**Topics:** Linear Regression, Residuals\n",
    "\n",
    "**Datasets**\n",
    "\n",
    "* **0066897-gr04_rsch_2014.xls:** 4th grader pass rates for standardized tests, from Florida Dept of Education\n",
    "* **FRL-1314-School-Web-Survey-3-Final.xls:** Free and reduced price lunch data, from Florida Dept of Education\n",
    "* **MembershipSchoolRaceGender1415.xls:** School population by gender, from Florida Dept of Education\n",
    "\n",
    "# What's the story?\n",
    "\n",
    "We're trying to see what kind of effect race and poverty have on school test score data. Their actual story doesn't include a regression, but they used one behind the scenes for research."
   ]
  },
  {
   "cell_type": "markdown",
   "metadata": {},
   "source": [
    "## Imports\n",
    "\n",
    "You'll want pandas and seaborn. You'll want want to set pandas to display a lot of columns and rows at a time."
   ]
  },
  {
   "cell_type": "code",
   "execution_count": 1,
   "metadata": {},
   "outputs": [],
   "source": [
    "import pandas as pd\n",
    "import matplotlib.pyplot as plt\n",
    "import seaborn as sns\n",
    "import statsmodels.api as sm\n",
    "import numpy as np\n",
    "from statsmodels.sandbox.regression.predstd import wls_prediction_std"
   ]
  },
  {
   "cell_type": "code",
   "execution_count": 2,
   "metadata": {},
   "outputs": [],
   "source": [
    "pd.options.display.max_columns = 200\n",
    "# pd.reset_option('display.max_columns')"
   ]
  },
  {
   "cell_type": "markdown",
   "metadata": {},
   "source": [
    "# Reading in our data\n",
    "\n",
    "Read in the dataset, being sure to read in the district and school number as strings in case we need to merge on anything later. If pandas gets its way, it would read them in as integers and turn `0001` into `1`. This dataset includes school information, as well as\n",
    "\n",
    "* The percentage of students who passed their 4th grade standardized reading test\n",
    "* The percentage of students receiving free or reduced price lunch, as a proxy for poverty\n",
    "* The percentage of students that are Black/African-American"
   ]
  },
  {
   "cell_type": "code",
   "execution_count": 3,
   "metadata": {},
   "outputs": [
    {
     "name": "stdout",
     "output_type": "stream",
     "text": [
      "<class 'pandas.core.frame.DataFrame'>\n",
      "RangeIndex: 2079 entries, 0 to 2078\n",
      "Data columns (total 6 columns):\n",
      "District Number        2079 non-null object\n",
      "District Name          2079 non-null object\n",
      "School Number          2079 non-null object\n",
      "School Name            2079 non-null object\n",
      "Testing Total          2079 non-null int64\n",
      "Testing Pct Passing    2079 non-null int64\n",
      "dtypes: int64(2), object(4)\n",
      "memory usage: 65.0+ KB\n"
     ]
    }
   ],
   "source": [
    "testing_df = pd.read_excel('sources/0066897-gr04_rsch_2014.xls', skiprows=10, \\\n",
    "                              usecols=['District Number','District Name','School Number','School Name','Number of Students','Percentage Passing (Achievement Levels 3 and Above)'], \\\n",
    "                              dtype={'District Number':str,'School Number':str})\n",
    "testing_df = testing_df.rename({'Percentage Passing (Achievement Levels 3 and Above)':'Testing Pct Passing','Number of Students':'Testing Total'}, axis=1)\n",
    "testing_df = testing_df.drop(testing_df.index[0:2])\n",
    "testing_df = testing_df[testing_df['Testing Pct Passing'] != '*'].reset_index(drop=True)\n",
    "testing_df[['Testing Total', 'Testing Pct Passing']] = testing_df[['Testing Total', 'Testing Pct Passing']].apply(pd.to_numeric) \n",
    "testing_df.info()"
   ]
  },
  {
   "cell_type": "code",
   "execution_count": 30,
   "metadata": {},
   "outputs": [
    {
     "name": "stdout",
     "output_type": "stream",
     "text": [
      "<class 'pandas.core.frame.DataFrame'>\n",
      "RangeIndex: 3903 entries, 0 to 3902\n",
      "Data columns (total 10 columns):\n",
      "District Number       3903 non-null object\n",
      "District Name         3903 non-null object\n",
      "School Number         3903 non-null object\n",
      "School Name           3903 non-null object\n",
      "Lunch Total           3903 non-null int64\n",
      "Lunch Free            3903 non-null int64\n",
      "Lunch Reduced         3903 non-null int64\n",
      "Lunch Prov2           3903 non-null int64\n",
      "Lunch DirCert         3903 non-null int64\n",
      "Lunch Pct Eligible    3903 non-null int64\n",
      "dtypes: int64(6), object(4)\n",
      "memory usage: 244.0+ KB\n"
     ]
    }
   ],
   "source": [
    "lunches_df = pd.read_excel('sources/FRL-1314-School-Web-Survey-3-Final.xls', 'School', skiprows=4, dtype='str')\n",
    "lunches_df = lunches_df.drop(lunches_df.index[0])\n",
    "lunches_df = lunches_df[lunches_df['Total Members'] != '*'].reset_index(drop=True)\n",
    "lunches_df = lunches_df.rename({'School #':'School Number','District':'District Name','Total Members':'Lunch Total','Eligible for Free or Reduced Price Lunch':'Lunch Free','Unnamed: 6':'Lunch Reduced','Unnamed: 7':'Lunch Prov2','Unnamed: 8':'Lunch DirCert'}, axis=1)\n",
    "lunches_df[['Lunch Total','Lunch Free','Lunch Reduced','Lunch Prov2','Lunch DirCert']] = lunches_df[['Lunch Total','Lunch Free','Lunch Reduced','Lunch Prov2','Lunch DirCert']].apply(pd.to_numeric)\n",
    "lunches_df['Lunch Pct Eligible'] = (((lunches_df['Lunch Free'] + lunches_df['Lunch Reduced'] + lunches_df['Lunch Prov2'] + lunches_df['Lunch DirCert']) / lunches_df['Lunch Total']) *100).round().astype(np.int64)\n",
    "lunches_df['District Number'] = lunches_df['District Number'].str.zfill(2)\n",
    "lunches_df['School Number'] = lunches_df['School Number'].str.zfill(4)\n",
    "lunches_df.info()"
   ]
  },
  {
   "cell_type": "code",
   "execution_count": 20,
   "metadata": {},
   "outputs": [
    {
     "name": "stdout",
     "output_type": "stream",
     "text": [
      "<class 'pandas.core.frame.DataFrame'>\n",
      "RangeIndex: 3847 entries, 0 to 3846\n",
      "Data columns (total 18 columns):\n",
      "District Number       3847 non-null object\n",
      "District Name         3847 non-null object\n",
      "School Number         3847 non-null object\n",
      "School Name           3847 non-null object\n",
      "Demog White           3847 non-null int64\n",
      "Demog Black           3847 non-null int64\n",
      "Demog Hisp            3847 non-null int64\n",
      "Demog Asian           3847 non-null int64\n",
      "Demog PI              3847 non-null int64\n",
      "Demog NA              3847 non-null int64\n",
      "Demog Multi           3847 non-null int64\n",
      "Demog Female          3847 non-null int64\n",
      "Demog Male            3847 non-null int64\n",
      "Demog Total           3847 non-null int64\n",
      "Demog Pct White       3847 non-null int64\n",
      "Demog Pct Black       3847 non-null int64\n",
      "Demog Pct Hisp        3847 non-null int64\n",
      "Demog Pct Minority    3847 non-null int64\n",
      "dtypes: int64(14), object(4)\n",
      "memory usage: 480.9+ KB\n"
     ]
    }
   ],
   "source": [
    "demogr_df = pd.read_excel('sources/MembershipSchoolRaceGender1415.xls', 'SCHOOL', skiprows=4, dtype='str')\n",
    "demogr_df = demogr_df[demogr_df['Grade'] == '4']\n",
    "demogr_df = demogr_df[demogr_df['Total'] != '*'].reset_index(drop=True)\n",
    "demogr_df = demogr_df.replace(r'^\\s*$', '0', regex=True)\n",
    "demogr_df = demogr_df.rename({'District #':'District Number','District':'District Name','School #':'School Number','School ':'School Name','Total':'Demog Total','White':'Demog White','Black or African American':'Demog Black','Hispanic/Latino':'Demog Hisp','Asian':'Demog Asian','Native Hawaiian or Other Pacific Islander':'Demog PI','American Indian or Alaska Native':'Demog NA','Two or More Races':'Demog Multi','Female Total':'Demog Female','Male Total':'Demog Male'}, axis=1)\n",
    "demogr_df[['Demog Total','Demog White','Demog Black','Demog Hisp','Demog Asian','Demog PI','Demog NA','Demog Multi','Demog Female','Demog Male']] = demogr_df[['Demog Total','Demog White','Demog Black','Demog Hisp','Demog Asian','Demog PI','Demog NA','Demog Multi','Demog Female','Demog Male']].apply(pd.to_numeric)\n",
    "demogr_df['Demog Pct White'] = ((demogr_df['Demog White'] / demogr_df['Demog Total']) *100).round().fillna(0).astype(np.int64)\n",
    "demogr_df['Demog Pct Black'] = ((demogr_df['Demog Black'] / demogr_df['Demog Total']) *100).round().fillna(0).astype(np.int64)\n",
    "demogr_df['Demog Pct Hisp'] = ((demogr_df['Demog Hisp'] / demogr_df['Demog Total']) *100).round().fillna(0).astype(np.int64)\n",
    "demogr_df['Demog Pct Minority'] = (((demogr_df['Demog Total'] - demogr_df['Demog White']) / demogr_df['Demog Total']) *100).round().fillna(0).astype(np.int64)\n",
    "demogr_df = demogr_df.drop('Grade', axis=1)\n",
    "demogr_df.info()"
   ]
  },
  {
   "cell_type": "code",
   "execution_count": 31,
   "metadata": {},
   "outputs": [
    {
     "name": "stdout",
     "output_type": "stream",
     "text": [
      "<class 'pandas.core.frame.DataFrame'>\n",
      "Int64Index: 2061 entries, 0 to 2060\n",
      "Data columns (total 7 columns):\n",
      "District Number        2061 non-null object\n",
      "District Name          2061 non-null object\n",
      "School Number          2061 non-null object\n",
      "School Name            2061 non-null object\n",
      "Testing Pct Passing    2061 non-null int64\n",
      "Lunch Pct Eligible     2061 non-null int64\n",
      "Demog Pct Black        2061 non-null int64\n",
      "dtypes: int64(3), object(4)\n",
      "memory usage: 96.6+ KB\n"
     ]
    }
   ],
   "source": [
    "merge_df = testing_df\n",
    "merge_df = merge_df.merge(lunches_df, how='left', left_on=['District Number','School Number'], right_on=['District Number','School Number'])\n",
    "merge_df = merge_df.merge(demogr_df, how='inner', left_on=['District Number','School Number'], right_on=['District Number','School Number'])\n",
    "merge_df = merge_df[['District Number','District Name_x','School Number','School Name_x','Testing Pct Passing','Lunch Pct Eligible','Demog Pct Black']]\n",
    "merge_df = merge_df.rename({'District Name_x':'District Name','School Name_x':'School Name'}, axis=1)\n",
    "# merge_df = merge_df.dropna(axis=0, how='any').reset_index(drop=True)\n",
    "merge_df.info()"
   ]
  },
  {
   "cell_type": "code",
   "execution_count": 49,
   "metadata": {},
   "outputs": [
    {
     "data": {
      "text/html": [
       "<div>\n",
       "<style scoped>\n",
       "    .dataframe tbody tr th:only-of-type {\n",
       "        vertical-align: middle;\n",
       "    }\n",
       "\n",
       "    .dataframe tbody tr th {\n",
       "        vertical-align: top;\n",
       "    }\n",
       "\n",
       "    .dataframe thead th {\n",
       "        text-align: right;\n",
       "    }\n",
       "</style>\n",
       "<table border=\"1\" class=\"dataframe\">\n",
       "  <thead>\n",
       "    <tr style=\"text-align: right;\">\n",
       "      <th></th>\n",
       "      <th>District Number</th>\n",
       "      <th>District Name</th>\n",
       "      <th>School Number</th>\n",
       "      <th>School Name</th>\n",
       "      <th>Testing Pct Passing</th>\n",
       "      <th>Lunch Pct Eligible</th>\n",
       "      <th>Demog Pct Black</th>\n",
       "    </tr>\n",
       "  </thead>\n",
       "  <tbody>\n",
       "    <tr>\n",
       "      <th>1152</th>\n",
       "      <td>36</td>\n",
       "      <td>LEE</td>\n",
       "      <td>4231</td>\n",
       "      <td>CAPE CORAL PREPARATORY &amp; FITNESS AC</td>\n",
       "      <td>58</td>\n",
       "      <td>76</td>\n",
       "      <td>11</td>\n",
       "    </tr>\n",
       "    <tr>\n",
       "      <th>93</th>\n",
       "      <td>05</td>\n",
       "      <td>BREVARD</td>\n",
       "      <td>3071</td>\n",
       "      <td>SABAL ELEMENTARY SCHOOL</td>\n",
       "      <td>54</td>\n",
       "      <td>67</td>\n",
       "      <td>7</td>\n",
       "    </tr>\n",
       "    <tr>\n",
       "      <th>701</th>\n",
       "      <td>16</td>\n",
       "      <td>DUVAL</td>\n",
       "      <td>0911</td>\n",
       "      <td>SALLYE B. MATHIS ELEMENTARY SCHOOL</td>\n",
       "      <td>28</td>\n",
       "      <td>76</td>\n",
       "      <td>93</td>\n",
       "    </tr>\n",
       "    <tr>\n",
       "      <th>813</th>\n",
       "      <td>17</td>\n",
       "      <td>ESCAMBIA</td>\n",
       "      <td>2104</td>\n",
       "      <td>JACKIE HARRIS PREPARATORY ACADEMY</td>\n",
       "      <td>11</td>\n",
       "      <td>93</td>\n",
       "      <td>95</td>\n",
       "    </tr>\n",
       "    <tr>\n",
       "      <th>1176</th>\n",
       "      <td>37</td>\n",
       "      <td>LEON</td>\n",
       "      <td>1161</td>\n",
       "      <td>CANOPY OAKS ELEMENTARY SCHOOL</td>\n",
       "      <td>67</td>\n",
       "      <td>46</td>\n",
       "      <td>23</td>\n",
       "    </tr>\n",
       "    <tr>\n",
       "      <th>641</th>\n",
       "      <td>13</td>\n",
       "      <td>MIAMI DADE</td>\n",
       "      <td>5421</td>\n",
       "      <td>SUNSET PARK ELEMENTARY SCHOOL</td>\n",
       "      <td>71</td>\n",
       "      <td>74</td>\n",
       "      <td>2</td>\n",
       "    </tr>\n",
       "    <tr>\n",
       "      <th>782</th>\n",
       "      <td>16</td>\n",
       "      <td>DUVAL</td>\n",
       "      <td>7023</td>\n",
       "      <td>DUVAL VIRTUAL INSTRUCTION ACADEMY</td>\n",
       "      <td>50</td>\n",
       "      <td>31</td>\n",
       "      <td>40</td>\n",
       "    </tr>\n",
       "    <tr>\n",
       "      <th>225</th>\n",
       "      <td>06</td>\n",
       "      <td>BROWARD</td>\n",
       "      <td>3041</td>\n",
       "      <td>CORAL PARK ELEMENTARY SCHOOL</td>\n",
       "      <td>64</td>\n",
       "      <td>48</td>\n",
       "      <td>21</td>\n",
       "    </tr>\n",
       "    <tr>\n",
       "      <th>1512</th>\n",
       "      <td>50</td>\n",
       "      <td>PALM BEACH</td>\n",
       "      <td>0291</td>\n",
       "      <td>NORTHBORO ELEMENTARY SCHOOL</td>\n",
       "      <td>48</td>\n",
       "      <td>76</td>\n",
       "      <td>46</td>\n",
       "    </tr>\n",
       "    <tr>\n",
       "      <th>27</th>\n",
       "      <td>01</td>\n",
       "      <td>ALACHUA</td>\n",
       "      <td>0956</td>\n",
       "      <td>EXPRESSIONS LEARNING ARTS ACADEMY</td>\n",
       "      <td>92</td>\n",
       "      <td>12</td>\n",
       "      <td>7</td>\n",
       "    </tr>\n",
       "  </tbody>\n",
       "</table>\n",
       "</div>"
      ],
      "text/plain": [
       "     District Number District Name School Number  \\\n",
       "1152              36           LEE          4231   \n",
       "93                05       BREVARD          3071   \n",
       "701               16         DUVAL          0911   \n",
       "813               17      ESCAMBIA          2104   \n",
       "1176              37          LEON          1161   \n",
       "641               13    MIAMI DADE          5421   \n",
       "782               16         DUVAL          7023   \n",
       "225               06       BROWARD          3041   \n",
       "1512              50    PALM BEACH          0291   \n",
       "27                01       ALACHUA          0956   \n",
       "\n",
       "                              School Name  Testing Pct Passing  \\\n",
       "1152  CAPE CORAL PREPARATORY & FITNESS AC                   58   \n",
       "93                SABAL ELEMENTARY SCHOOL                   54   \n",
       "701    SALLYE B. MATHIS ELEMENTARY SCHOOL                   28   \n",
       "813     JACKIE HARRIS PREPARATORY ACADEMY                   11   \n",
       "1176        CANOPY OAKS ELEMENTARY SCHOOL                   67   \n",
       "641         SUNSET PARK ELEMENTARY SCHOOL                   71   \n",
       "782     DUVAL VIRTUAL INSTRUCTION ACADEMY                   50   \n",
       "225          CORAL PARK ELEMENTARY SCHOOL                   64   \n",
       "1512          NORTHBORO ELEMENTARY SCHOOL                   48   \n",
       "27      EXPRESSIONS LEARNING ARTS ACADEMY                   92   \n",
       "\n",
       "      Lunch Pct Eligible  Demog Pct Black  \n",
       "1152                  76               11  \n",
       "93                    67                7  \n",
       "701                   76               93  \n",
       "813                   93               95  \n",
       "1176                  46               23  \n",
       "641                   74                2  \n",
       "782                   31               40  \n",
       "225                   48               21  \n",
       "1512                  76               46  \n",
       "27                    12                7  "
      ]
     },
     "execution_count": 49,
     "metadata": {},
     "output_type": "execute_result"
    }
   ],
   "source": [
    "merge_df.sample(10)"
   ]
  },
  {
   "cell_type": "markdown",
   "metadata": {},
   "source": [
    "### Converting to percentages\n",
    "\n",
    "It's really easy to get mixed up later if we don't have our percentage columns as actual percents. Multiply any percentages that go 0-1 by 100 to turn them into 0-100 instead.\n",
    "\n",
    "* **Tip:** Make sure your numbers are 1-100 after you multiply!"
   ]
  },
  {
   "cell_type": "code",
   "execution_count": null,
   "metadata": {},
   "outputs": [],
   "source": []
  },
  {
   "cell_type": "markdown",
   "metadata": {},
   "source": [
    "# Graphing our data"
   ]
  },
  {
   "cell_type": "markdown",
   "metadata": {},
   "source": [
    "Use seaborn's `regplot` to plot the relationship between free/reduced lunch and percent passing, and the same with percent black.\n",
    "\n",
    "* **Tip:** You can use `scatter_kws={'alpha':0.3}` to see things a bit more nicely"
   ]
  },
  {
   "cell_type": "code",
   "execution_count": null,
   "metadata": {},
   "outputs": [],
   "source": []
  },
  {
   "cell_type": "code",
   "execution_count": null,
   "metadata": {},
   "outputs": [],
   "source": []
  },
  {
   "cell_type": "markdown",
   "metadata": {},
   "source": [
    "# Linear regression\n",
    "\n",
    "Now let's be a little more exact: run a linear regression that takes into account both percent black and percent free or reduced.\n",
    "\n",
    "* **Tip:** Use `.dropna()` to remove missing data\n",
    "* **Tip:** Remember to use `sm.add_constant`!"
   ]
  },
  {
   "cell_type": "code",
   "execution_count": null,
   "metadata": {},
   "outputs": [],
   "source": []
  },
  {
   "cell_type": "code",
   "execution_count": null,
   "metadata": {},
   "outputs": [],
   "source": []
  },
  {
   "cell_type": "markdown",
   "metadata": {},
   "source": [
    "## Describe the relationship coefficient using \"real\" words\n",
    "\n",
    "For example, \"For every X change, we get Y change\""
   ]
  },
  {
   "cell_type": "code",
   "execution_count": null,
   "metadata": {},
   "outputs": [],
   "source": []
  },
  {
   "cell_type": "markdown",
   "metadata": {},
   "source": [
    "# Overperformers and underperformers\n",
    "\n",
    "The point of the regression is to predict the percent passing, right? We can use `result.predict()` to get the predicted passing rate for each school. Try to run it below: "
   ]
  },
  {
   "cell_type": "code",
   "execution_count": null,
   "metadata": {},
   "outputs": [],
   "source": []
  },
  {
   "cell_type": "markdown",
   "metadata": {},
   "source": [
    "Now, let's **save that value into a new column**, we can call it `predicted_passing`."
   ]
  },
  {
   "cell_type": "code",
   "execution_count": null,
   "metadata": {},
   "outputs": [],
   "source": []
  },
  {
   "cell_type": "markdown",
   "metadata": {},
   "source": [
    "### Confirm that Charles W. Duval had a predicted passing rate of 32."
   ]
  },
  {
   "cell_type": "code",
   "execution_count": null,
   "metadata": {},
   "outputs": [],
   "source": []
  },
  {
   "cell_type": "markdown",
   "metadata": {},
   "source": [
    "## Now let's find the difference between the predicted passing rate and the actual passing rate\n",
    "\n",
    "If we're being stats-y, this is called **the residual**. Save it into a new column called.... `residual`.\n",
    "\n",
    "* **Tip:** Think real hard about which direction you should be subtracting in."
   ]
  },
  {
   "cell_type": "code",
   "execution_count": null,
   "metadata": {},
   "outputs": [],
   "source": []
  },
  {
   "cell_type": "markdown",
   "metadata": {},
   "source": [
    "### Find the 10 schools that did much worse than predicted\n",
    "\n",
    "* PRINCETON HOUSE CHARTER should be the worst, with PEPIN ACADEMIES below that"
   ]
  },
  {
   "cell_type": "code",
   "execution_count": null,
   "metadata": {},
   "outputs": [],
   "source": []
  },
  {
   "cell_type": "markdown",
   "metadata": {},
   "source": [
    "### Find the top 10 schools that did better than predicted\n",
    "\n",
    "* PARKWAY MIDDLE SCHOOL should be the best, and PATHWAYS should be second"
   ]
  },
  {
   "cell_type": "code",
   "execution_count": null,
   "metadata": {},
   "outputs": [],
   "source": []
  },
  {
   "cell_type": "markdown",
   "metadata": {},
   "source": [
    "# What problems might our analysis have?\n",
    "\n",
    "We brought in two things we thought would do a good job covering socioeconomics and demographic patterns. What else might we be missing?\n",
    "\n",
    "* **Tip:** Pay attention to the names of the schools"
   ]
  },
  {
   "cell_type": "code",
   "execution_count": null,
   "metadata": {},
   "outputs": [],
   "source": []
  }
 ],
 "metadata": {
  "kernelspec": {
   "display_name": "Python 3",
   "language": "python",
   "name": "python3"
  },
  "language_info": {
   "codemirror_mode": {
    "name": "ipython",
    "version": 3
   },
   "file_extension": ".py",
   "mimetype": "text/x-python",
   "name": "python",
   "nbconvert_exporter": "python",
   "pygments_lexer": "ipython3",
   "version": "3.7.3"
  }
 },
 "nbformat": 4,
 "nbformat_minor": 2
}
